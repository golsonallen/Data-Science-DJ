{
 "metadata": {
  "language_info": {
   "codemirror_mode": {
    "name": "ipython",
    "version": 3
   },
   "file_extension": ".py",
   "mimetype": "text/x-python",
   "name": "python",
   "nbconvert_exporter": "python",
   "pygments_lexer": "ipython3",
   "version": "3.8.3-final"
  },
  "orig_nbformat": 2,
  "kernelspec": {
   "name": "python38364bitd27ebbbf080c47bb8babadfe830c3431",
   "display_name": "Python 3.8.3 64-bit",
   "language": "python"
  }
 },
 "nbformat": 4,
 "nbformat_minor": 2,
 "cells": [
  {
   "source": [
    "# Data Science DJ"
   ],
   "cell_type": "markdown",
   "metadata": {}
  },
  {
   "source": [
    "## By Griffin Olson-Allen"
   ],
   "cell_type": "markdown",
   "metadata": {}
  },
  {
   "source": [
    "## Cleaning, visualizing, analyzing, and predicting using the data gathered in data.py"
   ],
   "cell_type": "markdown",
   "metadata": {}
  },
  {
   "source": [
    "### Part 1: Cleaning"
   ],
   "cell_type": "markdown",
   "metadata": {}
  },
  {
   "cell_type": "code",
   "execution_count": 1,
   "metadata": {},
   "outputs": [],
   "source": [
    "import pandas as pd\n",
    "import numpy as np\n",
    "import seaborn as sns\n",
    "import matplotlib.pyplot as plt"
   ]
  },
  {
   "cell_type": "code",
   "execution_count": 2,
   "metadata": {},
   "outputs": [],
   "source": [
    "df = pd.read_csv(\"song_data.csv\")"
   ]
  },
  {
   "cell_type": "code",
   "execution_count": 3,
   "metadata": {},
   "outputs": [
    {
     "output_type": "execute_result",
     "data": {
      "text/plain": [
       "1038"
      ]
     },
     "metadata": {},
     "execution_count": 3
    }
   ],
   "source": [
    "len(df)"
   ]
  },
  {
   "cell_type": "code",
   "execution_count": 4,
   "metadata": {},
   "outputs": [
    {
     "output_type": "execute_result",
     "data": {
      "text/plain": [
       "                                         name                      id  \\\n",
       "0             Paradise (feat. Dermot Kennedy)  6ft4hAq6yde8jPZY2i5zLr   \n",
       "1               What's Love Got to Do with It  3Be7CLdHZpyzsVijme39cW   \n",
       "2  All You Need To Know (feat. Calle Lehmann)  4Gcv5SsxnQWpmOnUI19EJk   \n",
       "3                                    Dreamers  1MF0hyC0NLN0IcI4FpQKYl   \n",
       "4                      Big Love (with Wrabel)  0PGpWcKIlayTwPdz6Qstol   \n",
       "\n",
       "   duration_ms_x  explicit  popularity  danceability  energy  key  loudness  \\\n",
       "0         167903     False          90         0.632   0.595  8.0    -7.644   \n",
       "1         208156     False          80         0.750   0.664  8.0    -5.908   \n",
       "2         238458     False          72         0.513   0.788  0.0    -4.629   \n",
       "3         181935     False          50         0.780   0.808  7.0    -4.913   \n",
       "4         182115     False          57         0.483   0.761  8.0    -7.150   \n",
       "\n",
       "   mode  ...            type                                   uri  \\\n",
       "0   0.0  ...  audio_features  spotify:track:6ft4hAq6yde8jPZY2i5zLr   \n",
       "1   0.0  ...  audio_features  spotify:track:3Be7CLdHZpyzsVijme39cW   \n",
       "2   1.0  ...  audio_features  spotify:track:4Gcv5SsxnQWpmOnUI19EJk   \n",
       "3   1.0  ...  audio_features  spotify:track:1MF0hyC0NLN0IcI4FpQKYl   \n",
       "4   0.0  ...  audio_features  spotify:track:0PGpWcKIlayTwPdz6Qstol   \n",
       "\n",
       "                                          track_href  \\\n",
       "0  https://api.spotify.com/v1/tracks/6ft4hAq6yde8...   \n",
       "1  https://api.spotify.com/v1/tracks/3Be7CLdHZpyz...   \n",
       "2  https://api.spotify.com/v1/tracks/4Gcv5SsxnQWp...   \n",
       "3  https://api.spotify.com/v1/tracks/1MF0hyC0NLN0...   \n",
       "4  https://api.spotify.com/v1/tracks/0PGpWcKIlayT...   \n",
       "\n",
       "                                        analysis_url  duration_ms_y  \\\n",
       "0  https://api.spotify.com/v1/audio-analysis/6ft4...       167903.0   \n",
       "1  https://api.spotify.com/v1/audio-analysis/3Be7...       208156.0   \n",
       "2  https://api.spotify.com/v1/audio-analysis/4Gcv...       238459.0   \n",
       "3  https://api.spotify.com/v1/audio-analysis/1MF0...       181935.0   \n",
       "4  https://api.spotify.com/v1/audio-analysis/0PGp...       182116.0   \n",
       "\n",
       "   time_signature end_of_fade_in start_of_fade_out analysis_sample_rate error  \n",
       "0             4.0        0.00000         164.94295                22050   NaN  \n",
       "1             4.0        0.17941         200.16762                22050   NaN  \n",
       "2             4.0        3.70939         230.09235                22050   NaN  \n",
       "3             4.0        0.47596         177.35982                22050   NaN  \n",
       "4             4.0        2.17107         176.52971                22050   NaN  \n",
       "\n",
       "[5 rows x 26 columns]"
      ],
      "text/html": "<div>\n<style scoped>\n    .dataframe tbody tr th:only-of-type {\n        vertical-align: middle;\n    }\n\n    .dataframe tbody tr th {\n        vertical-align: top;\n    }\n\n    .dataframe thead th {\n        text-align: right;\n    }\n</style>\n<table border=\"1\" class=\"dataframe\">\n  <thead>\n    <tr style=\"text-align: right;\">\n      <th></th>\n      <th>name</th>\n      <th>id</th>\n      <th>duration_ms_x</th>\n      <th>explicit</th>\n      <th>popularity</th>\n      <th>danceability</th>\n      <th>energy</th>\n      <th>key</th>\n      <th>loudness</th>\n      <th>mode</th>\n      <th>...</th>\n      <th>type</th>\n      <th>uri</th>\n      <th>track_href</th>\n      <th>analysis_url</th>\n      <th>duration_ms_y</th>\n      <th>time_signature</th>\n      <th>end_of_fade_in</th>\n      <th>start_of_fade_out</th>\n      <th>analysis_sample_rate</th>\n      <th>error</th>\n    </tr>\n  </thead>\n  <tbody>\n    <tr>\n      <th>0</th>\n      <td>Paradise (feat. Dermot Kennedy)</td>\n      <td>6ft4hAq6yde8jPZY2i5zLr</td>\n      <td>167903</td>\n      <td>False</td>\n      <td>90</td>\n      <td>0.632</td>\n      <td>0.595</td>\n      <td>8.0</td>\n      <td>-7.644</td>\n      <td>0.0</td>\n      <td>...</td>\n      <td>audio_features</td>\n      <td>spotify:track:6ft4hAq6yde8jPZY2i5zLr</td>\n      <td>https://api.spotify.com/v1/tracks/6ft4hAq6yde8...</td>\n      <td>https://api.spotify.com/v1/audio-analysis/6ft4...</td>\n      <td>167903.0</td>\n      <td>4.0</td>\n      <td>0.00000</td>\n      <td>164.94295</td>\n      <td>22050</td>\n      <td>NaN</td>\n    </tr>\n    <tr>\n      <th>1</th>\n      <td>What's Love Got to Do with It</td>\n      <td>3Be7CLdHZpyzsVijme39cW</td>\n      <td>208156</td>\n      <td>False</td>\n      <td>80</td>\n      <td>0.750</td>\n      <td>0.664</td>\n      <td>8.0</td>\n      <td>-5.908</td>\n      <td>0.0</td>\n      <td>...</td>\n      <td>audio_features</td>\n      <td>spotify:track:3Be7CLdHZpyzsVijme39cW</td>\n      <td>https://api.spotify.com/v1/tracks/3Be7CLdHZpyz...</td>\n      <td>https://api.spotify.com/v1/audio-analysis/3Be7...</td>\n      <td>208156.0</td>\n      <td>4.0</td>\n      <td>0.17941</td>\n      <td>200.16762</td>\n      <td>22050</td>\n      <td>NaN</td>\n    </tr>\n    <tr>\n      <th>2</th>\n      <td>All You Need To Know (feat. Calle Lehmann)</td>\n      <td>4Gcv5SsxnQWpmOnUI19EJk</td>\n      <td>238458</td>\n      <td>False</td>\n      <td>72</td>\n      <td>0.513</td>\n      <td>0.788</td>\n      <td>0.0</td>\n      <td>-4.629</td>\n      <td>1.0</td>\n      <td>...</td>\n      <td>audio_features</td>\n      <td>spotify:track:4Gcv5SsxnQWpmOnUI19EJk</td>\n      <td>https://api.spotify.com/v1/tracks/4Gcv5SsxnQWp...</td>\n      <td>https://api.spotify.com/v1/audio-analysis/4Gcv...</td>\n      <td>238459.0</td>\n      <td>4.0</td>\n      <td>3.70939</td>\n      <td>230.09235</td>\n      <td>22050</td>\n      <td>NaN</td>\n    </tr>\n    <tr>\n      <th>3</th>\n      <td>Dreamers</td>\n      <td>1MF0hyC0NLN0IcI4FpQKYl</td>\n      <td>181935</td>\n      <td>False</td>\n      <td>50</td>\n      <td>0.780</td>\n      <td>0.808</td>\n      <td>7.0</td>\n      <td>-4.913</td>\n      <td>1.0</td>\n      <td>...</td>\n      <td>audio_features</td>\n      <td>spotify:track:1MF0hyC0NLN0IcI4FpQKYl</td>\n      <td>https://api.spotify.com/v1/tracks/1MF0hyC0NLN0...</td>\n      <td>https://api.spotify.com/v1/audio-analysis/1MF0...</td>\n      <td>181935.0</td>\n      <td>4.0</td>\n      <td>0.47596</td>\n      <td>177.35982</td>\n      <td>22050</td>\n      <td>NaN</td>\n    </tr>\n    <tr>\n      <th>4</th>\n      <td>Big Love (with Wrabel)</td>\n      <td>0PGpWcKIlayTwPdz6Qstol</td>\n      <td>182115</td>\n      <td>False</td>\n      <td>57</td>\n      <td>0.483</td>\n      <td>0.761</td>\n      <td>8.0</td>\n      <td>-7.150</td>\n      <td>0.0</td>\n      <td>...</td>\n      <td>audio_features</td>\n      <td>spotify:track:0PGpWcKIlayTwPdz6Qstol</td>\n      <td>https://api.spotify.com/v1/tracks/0PGpWcKIlayT...</td>\n      <td>https://api.spotify.com/v1/audio-analysis/0PGp...</td>\n      <td>182116.0</td>\n      <td>4.0</td>\n      <td>2.17107</td>\n      <td>176.52971</td>\n      <td>22050</td>\n      <td>NaN</td>\n    </tr>\n  </tbody>\n</table>\n<p>5 rows × 26 columns</p>\n</div>"
     },
     "metadata": {},
     "execution_count": 4
    }
   ],
   "source": [
    "df.head()"
   ]
  },
  {
   "cell_type": "code",
   "execution_count": 5,
   "metadata": {},
   "outputs": [
    {
     "output_type": "stream",
     "name": "stdout",
     "text": [
      "<class 'pandas.core.frame.DataFrame'>\nRangeIndex: 1038 entries, 0 to 1037\nData columns (total 26 columns):\n #   Column                Non-Null Count  Dtype  \n---  ------                --------------  -----  \n 0   name                  1038 non-null   object \n 1   id                    1038 non-null   object \n 2   duration_ms_x         1038 non-null   int64  \n 3   explicit              1038 non-null   bool   \n 4   popularity            1038 non-null   int64  \n 5   danceability          1038 non-null   float64\n 6   energy                1038 non-null   float64\n 7   key                   1038 non-null   float64\n 8   loudness              1038 non-null   float64\n 9   mode                  1038 non-null   float64\n 10  speechiness           1038 non-null   float64\n 11  acousticness          1038 non-null   float64\n 12  instrumentalness      1038 non-null   float64\n 13  liveness              1038 non-null   float64\n 14  valence               1038 non-null   float64\n 15  tempo                 1038 non-null   float64\n 16  type                  1038 non-null   object \n 17  uri                   1038 non-null   object \n 18  track_href            1038 non-null   object \n 19  analysis_url          1038 non-null   object \n 20  duration_ms_y         1038 non-null   float64\n 21  time_signature        1038 non-null   float64\n 22  end_of_fade_in        1038 non-null   float64\n 23  start_of_fade_out     1038 non-null   float64\n 24  analysis_sample_rate  1038 non-null   int64  \n 25  error                 0 non-null      float64\ndtypes: bool(1), float64(16), int64(3), object(6)\nmemory usage: 203.9+ KB\n"
     ]
    }
   ],
   "source": [
    "df.info()"
   ]
  },
  {
   "source": [
    "### Features\n",
    "\n",
    "#### name: \n",
    "#### id: \n",
    "..."
   ],
   "cell_type": "markdown",
   "metadata": {}
  },
  {
   "source": [
    "Because these songs were pulled from 7 different playlists, there could be a lot of overlap where 1 song is in 3 or 4 playlists and is in the dataframe 3 or 4 times. \n",
    "So our very first step will be to check for duplicates."
   ],
   "cell_type": "markdown",
   "metadata": {}
  },
  {
   "cell_type": "code",
   "execution_count": 6,
   "metadata": {},
   "outputs": [
    {
     "output_type": "execute_result",
     "data": {
      "text/plain": [
       "False    944\n",
       "True      94\n",
       "dtype: int64"
      ]
     },
     "metadata": {},
     "execution_count": 6
    }
   ],
   "source": [
    "df.duplicated().value_counts()"
   ]
  },
  {
   "source": [
    "94 songs are duplicated so we need to remove them"
   ],
   "cell_type": "markdown",
   "metadata": {}
  },
  {
   "cell_type": "code",
   "execution_count": 7,
   "metadata": {},
   "outputs": [
    {
     "output_type": "execute_result",
     "data": {
      "text/plain": [
       "944"
      ]
     },
     "metadata": {},
     "execution_count": 7
    }
   ],
   "source": [
    "len(df.drop_duplicates()) #should be 944 since 1038 - 94 = 944"
   ]
  },
  {
   "cell_type": "code",
   "execution_count": 8,
   "metadata": {},
   "outputs": [],
   "source": [
    "df = df.drop_duplicates()"
   ]
  },
  {
   "cell_type": "code",
   "execution_count": 9,
   "metadata": {},
   "outputs": [
    {
     "output_type": "execute_result",
     "data": {
      "text/plain": [
       "0"
      ]
     },
     "metadata": {},
     "execution_count": 9
    }
   ],
   "source": [
    "sum(df.duplicated())"
   ]
  },
  {
   "source": [
    "Now that we have 0 duplicates, we can begin analyzing the data."
   ],
   "cell_type": "markdown",
   "metadata": {}
  },
  {
   "cell_type": "code",
   "execution_count": 10,
   "metadata": {},
   "outputs": [
    {
     "output_type": "execute_result",
     "data": {
      "text/plain": [
       "       duration_ms_x  popularity  danceability      energy         key  \\\n",
       "count     944.000000  944.000000    944.000000  944.000000  944.000000   \n",
       "mean   219760.225636   43.483051      0.622121    0.765781    5.500000   \n",
       "std     56768.281313   21.897276      0.121056    0.148381    3.636156   \n",
       "min     61022.000000    0.000000      0.184000    0.114000    0.000000   \n",
       "25%    181003.000000   32.000000      0.544000    0.684750    2.000000   \n",
       "50%    207048.500000   48.000000      0.629000    0.794000    6.000000   \n",
       "75%    243543.250000   59.000000      0.706000    0.878000    9.000000   \n",
       "max    463226.000000   90.000000      0.946000    0.999000   11.000000   \n",
       "\n",
       "         loudness        mode  speechiness  acousticness  instrumentalness  \\\n",
       "count  944.000000  944.000000   944.000000    944.000000        944.000000   \n",
       "mean    -5.643966    0.485169     0.075997      0.109521          0.155554   \n",
       "std      2.284321    0.500045     0.072305      0.169090          0.285037   \n",
       "min    -20.792000    0.000000     0.025700      0.000023          0.000000   \n",
       "25%     -6.841250    0.000000     0.039575      0.005755          0.000004   \n",
       "50%     -5.318500    0.000000     0.051100      0.031850          0.001465   \n",
       "75%     -3.995500    1.000000     0.079225      0.148000          0.134000   \n",
       "max     -0.570000    1.000000     0.869000      0.967000          0.972000   \n",
       "\n",
       "         liveness     valence       tempo  duration_ms_y  time_signature  \\\n",
       "count  944.000000  944.000000  944.000000     944.000000      944.000000   \n",
       "mean     0.206735    0.366817  124.178453  219760.127119        3.991525   \n",
       "std      0.165790    0.205753   16.544259   56766.683397        0.172106   \n",
       "min      0.022200    0.031600   55.803000   61022.000000        1.000000   \n",
       "25%      0.095050    0.195000  120.041500  181003.000000        4.000000   \n",
       "50%      0.139000    0.351000  126.037000  207049.500000        4.000000   \n",
       "75%      0.283500    0.510250  128.029000  243543.250000        4.000000   \n",
       "max      0.956000    0.977000  212.137000  463227.000000        5.000000   \n",
       "\n",
       "       end_of_fade_in  start_of_fade_out  analysis_sample_rate  error  \n",
       "count      944.000000         944.000000                 944.0    0.0  \n",
       "mean         0.689903         212.496943               22050.0    NaN  \n",
       "std          1.467243          55.897983                   0.0    NaN  \n",
       "min          0.000000          61.022040               22050.0    NaN  \n",
       "25%          0.000000         174.725813               22050.0    NaN  \n",
       "50%          0.064305         199.793195               22050.0    NaN  \n",
       "75%          0.353948         235.582395               22050.0    NaN  \n",
       "max         10.385120         450.501950               22050.0    NaN  "
      ],
      "text/html": "<div>\n<style scoped>\n    .dataframe tbody tr th:only-of-type {\n        vertical-align: middle;\n    }\n\n    .dataframe tbody tr th {\n        vertical-align: top;\n    }\n\n    .dataframe thead th {\n        text-align: right;\n    }\n</style>\n<table border=\"1\" class=\"dataframe\">\n  <thead>\n    <tr style=\"text-align: right;\">\n      <th></th>\n      <th>duration_ms_x</th>\n      <th>popularity</th>\n      <th>danceability</th>\n      <th>energy</th>\n      <th>key</th>\n      <th>loudness</th>\n      <th>mode</th>\n      <th>speechiness</th>\n      <th>acousticness</th>\n      <th>instrumentalness</th>\n      <th>liveness</th>\n      <th>valence</th>\n      <th>tempo</th>\n      <th>duration_ms_y</th>\n      <th>time_signature</th>\n      <th>end_of_fade_in</th>\n      <th>start_of_fade_out</th>\n      <th>analysis_sample_rate</th>\n      <th>error</th>\n    </tr>\n  </thead>\n  <tbody>\n    <tr>\n      <th>count</th>\n      <td>944.000000</td>\n      <td>944.000000</td>\n      <td>944.000000</td>\n      <td>944.000000</td>\n      <td>944.000000</td>\n      <td>944.000000</td>\n      <td>944.000000</td>\n      <td>944.000000</td>\n      <td>944.000000</td>\n      <td>944.000000</td>\n      <td>944.000000</td>\n      <td>944.000000</td>\n      <td>944.000000</td>\n      <td>944.000000</td>\n      <td>944.000000</td>\n      <td>944.000000</td>\n      <td>944.000000</td>\n      <td>944.0</td>\n      <td>0.0</td>\n    </tr>\n    <tr>\n      <th>mean</th>\n      <td>219760.225636</td>\n      <td>43.483051</td>\n      <td>0.622121</td>\n      <td>0.765781</td>\n      <td>5.500000</td>\n      <td>-5.643966</td>\n      <td>0.485169</td>\n      <td>0.075997</td>\n      <td>0.109521</td>\n      <td>0.155554</td>\n      <td>0.206735</td>\n      <td>0.366817</td>\n      <td>124.178453</td>\n      <td>219760.127119</td>\n      <td>3.991525</td>\n      <td>0.689903</td>\n      <td>212.496943</td>\n      <td>22050.0</td>\n      <td>NaN</td>\n    </tr>\n    <tr>\n      <th>std</th>\n      <td>56768.281313</td>\n      <td>21.897276</td>\n      <td>0.121056</td>\n      <td>0.148381</td>\n      <td>3.636156</td>\n      <td>2.284321</td>\n      <td>0.500045</td>\n      <td>0.072305</td>\n      <td>0.169090</td>\n      <td>0.285037</td>\n      <td>0.165790</td>\n      <td>0.205753</td>\n      <td>16.544259</td>\n      <td>56766.683397</td>\n      <td>0.172106</td>\n      <td>1.467243</td>\n      <td>55.897983</td>\n      <td>0.0</td>\n      <td>NaN</td>\n    </tr>\n    <tr>\n      <th>min</th>\n      <td>61022.000000</td>\n      <td>0.000000</td>\n      <td>0.184000</td>\n      <td>0.114000</td>\n      <td>0.000000</td>\n      <td>-20.792000</td>\n      <td>0.000000</td>\n      <td>0.025700</td>\n      <td>0.000023</td>\n      <td>0.000000</td>\n      <td>0.022200</td>\n      <td>0.031600</td>\n      <td>55.803000</td>\n      <td>61022.000000</td>\n      <td>1.000000</td>\n      <td>0.000000</td>\n      <td>61.022040</td>\n      <td>22050.0</td>\n      <td>NaN</td>\n    </tr>\n    <tr>\n      <th>25%</th>\n      <td>181003.000000</td>\n      <td>32.000000</td>\n      <td>0.544000</td>\n      <td>0.684750</td>\n      <td>2.000000</td>\n      <td>-6.841250</td>\n      <td>0.000000</td>\n      <td>0.039575</td>\n      <td>0.005755</td>\n      <td>0.000004</td>\n      <td>0.095050</td>\n      <td>0.195000</td>\n      <td>120.041500</td>\n      <td>181003.000000</td>\n      <td>4.000000</td>\n      <td>0.000000</td>\n      <td>174.725813</td>\n      <td>22050.0</td>\n      <td>NaN</td>\n    </tr>\n    <tr>\n      <th>50%</th>\n      <td>207048.500000</td>\n      <td>48.000000</td>\n      <td>0.629000</td>\n      <td>0.794000</td>\n      <td>6.000000</td>\n      <td>-5.318500</td>\n      <td>0.000000</td>\n      <td>0.051100</td>\n      <td>0.031850</td>\n      <td>0.001465</td>\n      <td>0.139000</td>\n      <td>0.351000</td>\n      <td>126.037000</td>\n      <td>207049.500000</td>\n      <td>4.000000</td>\n      <td>0.064305</td>\n      <td>199.793195</td>\n      <td>22050.0</td>\n      <td>NaN</td>\n    </tr>\n    <tr>\n      <th>75%</th>\n      <td>243543.250000</td>\n      <td>59.000000</td>\n      <td>0.706000</td>\n      <td>0.878000</td>\n      <td>9.000000</td>\n      <td>-3.995500</td>\n      <td>1.000000</td>\n      <td>0.079225</td>\n      <td>0.148000</td>\n      <td>0.134000</td>\n      <td>0.283500</td>\n      <td>0.510250</td>\n      <td>128.029000</td>\n      <td>243543.250000</td>\n      <td>4.000000</td>\n      <td>0.353948</td>\n      <td>235.582395</td>\n      <td>22050.0</td>\n      <td>NaN</td>\n    </tr>\n    <tr>\n      <th>max</th>\n      <td>463226.000000</td>\n      <td>90.000000</td>\n      <td>0.946000</td>\n      <td>0.999000</td>\n      <td>11.000000</td>\n      <td>-0.570000</td>\n      <td>1.000000</td>\n      <td>0.869000</td>\n      <td>0.967000</td>\n      <td>0.972000</td>\n      <td>0.956000</td>\n      <td>0.977000</td>\n      <td>212.137000</td>\n      <td>463227.000000</td>\n      <td>5.000000</td>\n      <td>10.385120</td>\n      <td>450.501950</td>\n      <td>22050.0</td>\n      <td>NaN</td>\n    </tr>\n  </tbody>\n</table>\n</div>"
     },
     "metadata": {},
     "execution_count": 10
    }
   ],
   "source": [
    "df.describe()"
   ]
  },
  {
   "source": [
    "There are two different duration columns so we need to determine if there's a difference between them (x and y)\n",
    "x is of type int while y is floating type"
   ],
   "cell_type": "markdown",
   "metadata": {}
  },
  {
   "cell_type": "code",
   "execution_count": 11,
   "metadata": {},
   "outputs": [
    {
     "output_type": "execute_result",
     "data": {
      "text/plain": [
       "   duration_ms_x  duration_ms_y\n",
       "0         167903       167903.0\n",
       "1         208156       208156.0\n",
       "2         238458       238459.0\n",
       "3         181935       181935.0\n",
       "4         182115       182116.0"
      ],
      "text/html": "<div>\n<style scoped>\n    .dataframe tbody tr th:only-of-type {\n        vertical-align: middle;\n    }\n\n    .dataframe tbody tr th {\n        vertical-align: top;\n    }\n\n    .dataframe thead th {\n        text-align: right;\n    }\n</style>\n<table border=\"1\" class=\"dataframe\">\n  <thead>\n    <tr style=\"text-align: right;\">\n      <th></th>\n      <th>duration_ms_x</th>\n      <th>duration_ms_y</th>\n    </tr>\n  </thead>\n  <tbody>\n    <tr>\n      <th>0</th>\n      <td>167903</td>\n      <td>167903.0</td>\n    </tr>\n    <tr>\n      <th>1</th>\n      <td>208156</td>\n      <td>208156.0</td>\n    </tr>\n    <tr>\n      <th>2</th>\n      <td>238458</td>\n      <td>238459.0</td>\n    </tr>\n    <tr>\n      <th>3</th>\n      <td>181935</td>\n      <td>181935.0</td>\n    </tr>\n    <tr>\n      <th>4</th>\n      <td>182115</td>\n      <td>182116.0</td>\n    </tr>\n  </tbody>\n</table>\n</div>"
     },
     "metadata": {},
     "execution_count": 11
    }
   ],
   "source": [
    "df[[\"duration_ms_x\", \"duration_ms_y\"]].head()"
   ]
  },
  {
   "cell_type": "code",
   "execution_count": 12,
   "metadata": {},
   "outputs": [],
   "source": [
    "def is_whole(n):\n",
    "    return n % 1 == 0"
   ]
  },
  {
   "cell_type": "code",
   "execution_count": 13,
   "metadata": {},
   "outputs": [
    {
     "output_type": "execute_result",
     "data": {
      "text/plain": [
       "0       True\n",
       "1       True\n",
       "2       True\n",
       "3       True\n",
       "4       True\n",
       "        ... \n",
       "1033    True\n",
       "1034    True\n",
       "1035    True\n",
       "1036    True\n",
       "1037    True\n",
       "Name: duration_ms_y, Length: 944, dtype: bool"
      ]
     },
     "metadata": {},
     "execution_count": 13
    }
   ],
   "source": [
    "df[\"duration_ms_y\"].apply(is_whole)"
   ]
  },
  {
   "cell_type": "code",
   "execution_count": 14,
   "metadata": {},
   "outputs": [
    {
     "output_type": "execute_result",
     "data": {
      "text/plain": [
       "944"
      ]
     },
     "metadata": {},
     "execution_count": 14
    }
   ],
   "source": [
    "sum(df[\"duration_ms_y\"].apply(is_whole))"
   ]
  },
  {
   "source": [
    "All the durations are whole numbers so we can use the integer version and drop the float version"
   ],
   "cell_type": "markdown",
   "metadata": {}
  },
  {
   "cell_type": "code",
   "execution_count": 15,
   "metadata": {},
   "outputs": [],
   "source": [
    "df = df.drop([\"duration_ms_y\"], axis = 1)"
   ]
  },
  {
   "cell_type": "code",
   "execution_count": 16,
   "metadata": {},
   "outputs": [
    {
     "output_type": "execute_result",
     "data": {
      "text/plain": [
       "Index(['name', 'id', 'duration_ms_x', 'explicit', 'popularity', 'danceability',\n",
       "       'energy', 'key', 'loudness', 'mode', 'speechiness', 'acousticness',\n",
       "       'instrumentalness', 'liveness', 'valence', 'tempo', 'type', 'uri',\n",
       "       'track_href', 'analysis_url', 'time_signature', 'end_of_fade_in',\n",
       "       'start_of_fade_out', 'analysis_sample_rate', 'error'],\n",
       "      dtype='object')"
      ]
     },
     "metadata": {},
     "execution_count": 16
    }
   ],
   "source": [
    "df.columns"
   ]
  },
  {
   "source": [
    "Change now rename duration_ms_x to just duration_ms"
   ],
   "cell_type": "markdown",
   "metadata": {}
  },
  {
   "cell_type": "code",
   "execution_count": 17,
   "metadata": {},
   "outputs": [],
   "source": [
    "df = df.rename(columns={\"duration_ms_x\": \"duration_ms\"})"
   ]
  },
  {
   "cell_type": "code",
   "execution_count": 18,
   "metadata": {},
   "outputs": [
    {
     "output_type": "execute_result",
     "data": {
      "text/plain": [
       "                              name                      id  duration_ms  \\\n",
       "0  Paradise (feat. Dermot Kennedy)  6ft4hAq6yde8jPZY2i5zLr       167903   \n",
       "\n",
       "   explicit  popularity  danceability  energy  key  loudness  mode  ...  \\\n",
       "0     False          90         0.632   0.595  8.0    -7.644   0.0  ...   \n",
       "\n",
       "     tempo            type                                   uri  \\\n",
       "0  124.114  audio_features  spotify:track:6ft4hAq6yde8jPZY2i5zLr   \n",
       "\n",
       "                                          track_href  \\\n",
       "0  https://api.spotify.com/v1/tracks/6ft4hAq6yde8...   \n",
       "\n",
       "                                        analysis_url  time_signature  \\\n",
       "0  https://api.spotify.com/v1/audio-analysis/6ft4...             4.0   \n",
       "\n",
       "  end_of_fade_in start_of_fade_out analysis_sample_rate error  \n",
       "0            0.0         164.94295                22050   NaN  \n",
       "\n",
       "[1 rows x 25 columns]"
      ],
      "text/html": "<div>\n<style scoped>\n    .dataframe tbody tr th:only-of-type {\n        vertical-align: middle;\n    }\n\n    .dataframe tbody tr th {\n        vertical-align: top;\n    }\n\n    .dataframe thead th {\n        text-align: right;\n    }\n</style>\n<table border=\"1\" class=\"dataframe\">\n  <thead>\n    <tr style=\"text-align: right;\">\n      <th></th>\n      <th>name</th>\n      <th>id</th>\n      <th>duration_ms</th>\n      <th>explicit</th>\n      <th>popularity</th>\n      <th>danceability</th>\n      <th>energy</th>\n      <th>key</th>\n      <th>loudness</th>\n      <th>mode</th>\n      <th>...</th>\n      <th>tempo</th>\n      <th>type</th>\n      <th>uri</th>\n      <th>track_href</th>\n      <th>analysis_url</th>\n      <th>time_signature</th>\n      <th>end_of_fade_in</th>\n      <th>start_of_fade_out</th>\n      <th>analysis_sample_rate</th>\n      <th>error</th>\n    </tr>\n  </thead>\n  <tbody>\n    <tr>\n      <th>0</th>\n      <td>Paradise (feat. Dermot Kennedy)</td>\n      <td>6ft4hAq6yde8jPZY2i5zLr</td>\n      <td>167903</td>\n      <td>False</td>\n      <td>90</td>\n      <td>0.632</td>\n      <td>0.595</td>\n      <td>8.0</td>\n      <td>-7.644</td>\n      <td>0.0</td>\n      <td>...</td>\n      <td>124.114</td>\n      <td>audio_features</td>\n      <td>spotify:track:6ft4hAq6yde8jPZY2i5zLr</td>\n      <td>https://api.spotify.com/v1/tracks/6ft4hAq6yde8...</td>\n      <td>https://api.spotify.com/v1/audio-analysis/6ft4...</td>\n      <td>4.0</td>\n      <td>0.0</td>\n      <td>164.94295</td>\n      <td>22050</td>\n      <td>NaN</td>\n    </tr>\n  </tbody>\n</table>\n<p>1 rows × 25 columns</p>\n</div>"
     },
     "metadata": {},
     "execution_count": 18
    }
   ],
   "source": [
    "df.head(1)"
   ]
  },
  {
   "source": [
    "Next, we can look at the error column"
   ],
   "cell_type": "markdown",
   "metadata": {}
  },
  {
   "cell_type": "code",
   "execution_count": 19,
   "metadata": {},
   "outputs": [
    {
     "output_type": "execute_result",
     "data": {
      "text/plain": [
       "0      NaN\n",
       "1      NaN\n",
       "2      NaN\n",
       "3      NaN\n",
       "4      NaN\n",
       "        ..\n",
       "1033   NaN\n",
       "1034   NaN\n",
       "1035   NaN\n",
       "1036   NaN\n",
       "1037   NaN\n",
       "Name: error, Length: 944, dtype: float64"
      ]
     },
     "metadata": {},
     "execution_count": 19
    }
   ],
   "source": [
    "df[\"error\"]"
   ]
  },
  {
   "cell_type": "code",
   "execution_count": 20,
   "metadata": {},
   "outputs": [
    {
     "output_type": "execute_result",
     "data": {
      "text/plain": [
       "944"
      ]
     },
     "metadata": {},
     "execution_count": 20
    }
   ],
   "source": [
    "sum(pd.isna(df[\"error\"])) #can sum up booleans where True = 1 and False = 0"
   ]
  },
  {
   "source": [
    "Since our sum is 1038 (the length of the dataframe) we know every row has a True value and therfore every row has a NaN value for error. Since every row has nothing in the error column, we can drop it as well"
   ],
   "cell_type": "markdown",
   "metadata": {}
  },
  {
   "cell_type": "code",
   "execution_count": 21,
   "metadata": {},
   "outputs": [],
   "source": [
    "df = df.drop([\"error\"], axis = 1)"
   ]
  },
  {
   "cell_type": "code",
   "execution_count": 22,
   "metadata": {},
   "outputs": [
    {
     "output_type": "execute_result",
     "data": {
      "text/plain": [
       "                              name                      id  duration_ms  \\\n",
       "0  Paradise (feat. Dermot Kennedy)  6ft4hAq6yde8jPZY2i5zLr       167903   \n",
       "\n",
       "   explicit  popularity  danceability  energy  key  loudness  mode  ...  \\\n",
       "0     False          90         0.632   0.595  8.0    -7.644   0.0  ...   \n",
       "\n",
       "   valence    tempo            type                                   uri  \\\n",
       "0    0.435  124.114  audio_features  spotify:track:6ft4hAq6yde8jPZY2i5zLr   \n",
       "\n",
       "                                          track_href  \\\n",
       "0  https://api.spotify.com/v1/tracks/6ft4hAq6yde8...   \n",
       "\n",
       "                                        analysis_url time_signature  \\\n",
       "0  https://api.spotify.com/v1/audio-analysis/6ft4...            4.0   \n",
       "\n",
       "  end_of_fade_in start_of_fade_out analysis_sample_rate  \n",
       "0            0.0         164.94295                22050  \n",
       "\n",
       "[1 rows x 24 columns]"
      ],
      "text/html": "<div>\n<style scoped>\n    .dataframe tbody tr th:only-of-type {\n        vertical-align: middle;\n    }\n\n    .dataframe tbody tr th {\n        vertical-align: top;\n    }\n\n    .dataframe thead th {\n        text-align: right;\n    }\n</style>\n<table border=\"1\" class=\"dataframe\">\n  <thead>\n    <tr style=\"text-align: right;\">\n      <th></th>\n      <th>name</th>\n      <th>id</th>\n      <th>duration_ms</th>\n      <th>explicit</th>\n      <th>popularity</th>\n      <th>danceability</th>\n      <th>energy</th>\n      <th>key</th>\n      <th>loudness</th>\n      <th>mode</th>\n      <th>...</th>\n      <th>valence</th>\n      <th>tempo</th>\n      <th>type</th>\n      <th>uri</th>\n      <th>track_href</th>\n      <th>analysis_url</th>\n      <th>time_signature</th>\n      <th>end_of_fade_in</th>\n      <th>start_of_fade_out</th>\n      <th>analysis_sample_rate</th>\n    </tr>\n  </thead>\n  <tbody>\n    <tr>\n      <th>0</th>\n      <td>Paradise (feat. Dermot Kennedy)</td>\n      <td>6ft4hAq6yde8jPZY2i5zLr</td>\n      <td>167903</td>\n      <td>False</td>\n      <td>90</td>\n      <td>0.632</td>\n      <td>0.595</td>\n      <td>8.0</td>\n      <td>-7.644</td>\n      <td>0.0</td>\n      <td>...</td>\n      <td>0.435</td>\n      <td>124.114</td>\n      <td>audio_features</td>\n      <td>spotify:track:6ft4hAq6yde8jPZY2i5zLr</td>\n      <td>https://api.spotify.com/v1/tracks/6ft4hAq6yde8...</td>\n      <td>https://api.spotify.com/v1/audio-analysis/6ft4...</td>\n      <td>4.0</td>\n      <td>0.0</td>\n      <td>164.94295</td>\n      <td>22050</td>\n    </tr>\n  </tbody>\n</table>\n<p>1 rows × 24 columns</p>\n</div>"
     },
     "metadata": {},
     "execution_count": 22
    }
   ],
   "source": [
    "df.head(1)"
   ]
  },
  {
   "source": [
    "Now let's look at analysis sample rate"
   ],
   "cell_type": "markdown",
   "metadata": {}
  },
  {
   "cell_type": "code",
   "execution_count": 23,
   "metadata": {},
   "outputs": [
    {
     "output_type": "execute_result",
     "data": {
      "text/plain": [
       "0       22050\n",
       "1       22050\n",
       "2       22050\n",
       "3       22050\n",
       "4       22050\n",
       "        ...  \n",
       "1033    22050\n",
       "1034    22050\n",
       "1035    22050\n",
       "1036    22050\n",
       "1037    22050\n",
       "Name: analysis_sample_rate, Length: 944, dtype: int64"
      ]
     },
     "metadata": {},
     "execution_count": 23
    }
   ],
   "source": [
    "df[\"analysis_sample_rate\"]"
   ]
  },
  {
   "source": [
    "It seems to be the same for every row but let's check to make sure"
   ],
   "cell_type": "markdown",
   "metadata": {}
  },
  {
   "cell_type": "code",
   "execution_count": 24,
   "metadata": {},
   "outputs": [
    {
     "output_type": "execute_result",
     "data": {
      "text/plain": [
       "Empty DataFrame\n",
       "Columns: [name, id, duration_ms, explicit, popularity, danceability, energy, key, loudness, mode, speechiness, acousticness, instrumentalness, liveness, valence, tempo, type, uri, track_href, analysis_url, time_signature, end_of_fade_in, start_of_fade_out, analysis_sample_rate]\n",
       "Index: []\n",
       "\n",
       "[0 rows x 24 columns]"
      ],
      "text/html": "<div>\n<style scoped>\n    .dataframe tbody tr th:only-of-type {\n        vertical-align: middle;\n    }\n\n    .dataframe tbody tr th {\n        vertical-align: top;\n    }\n\n    .dataframe thead th {\n        text-align: right;\n    }\n</style>\n<table border=\"1\" class=\"dataframe\">\n  <thead>\n    <tr style=\"text-align: right;\">\n      <th></th>\n      <th>name</th>\n      <th>id</th>\n      <th>duration_ms</th>\n      <th>explicit</th>\n      <th>popularity</th>\n      <th>danceability</th>\n      <th>energy</th>\n      <th>key</th>\n      <th>loudness</th>\n      <th>mode</th>\n      <th>...</th>\n      <th>valence</th>\n      <th>tempo</th>\n      <th>type</th>\n      <th>uri</th>\n      <th>track_href</th>\n      <th>analysis_url</th>\n      <th>time_signature</th>\n      <th>end_of_fade_in</th>\n      <th>start_of_fade_out</th>\n      <th>analysis_sample_rate</th>\n    </tr>\n  </thead>\n  <tbody>\n  </tbody>\n</table>\n<p>0 rows × 24 columns</p>\n</div>"
     },
     "metadata": {},
     "execution_count": 24
    }
   ],
   "source": [
    "df[df[\"analysis_sample_rate\"] != 22050]"
   ]
  },
  {
   "source": [
    "Every row has the same sample rate so this feature won't be any help to us and we can drop it"
   ],
   "cell_type": "markdown",
   "metadata": {}
  },
  {
   "cell_type": "code",
   "execution_count": 25,
   "metadata": {},
   "outputs": [],
   "source": [
    "df = df.drop([\"analysis_sample_rate\"], axis = 1)"
   ]
  },
  {
   "cell_type": "code",
   "execution_count": 26,
   "metadata": {},
   "outputs": [
    {
     "output_type": "execute_result",
     "data": {
      "text/plain": [
       "                              name                      id  duration_ms  \\\n",
       "0  Paradise (feat. Dermot Kennedy)  6ft4hAq6yde8jPZY2i5zLr       167903   \n",
       "\n",
       "   explicit  popularity  danceability  energy  key  loudness  mode  ...  \\\n",
       "0     False          90         0.632   0.595  8.0    -7.644   0.0  ...   \n",
       "\n",
       "   liveness  valence    tempo            type  \\\n",
       "0     0.209    0.435  124.114  audio_features   \n",
       "\n",
       "                                    uri  \\\n",
       "0  spotify:track:6ft4hAq6yde8jPZY2i5zLr   \n",
       "\n",
       "                                          track_href  \\\n",
       "0  https://api.spotify.com/v1/tracks/6ft4hAq6yde8...   \n",
       "\n",
       "                                        analysis_url time_signature  \\\n",
       "0  https://api.spotify.com/v1/audio-analysis/6ft4...            4.0   \n",
       "\n",
       "  end_of_fade_in start_of_fade_out  \n",
       "0            0.0         164.94295  \n",
       "\n",
       "[1 rows x 23 columns]"
      ],
      "text/html": "<div>\n<style scoped>\n    .dataframe tbody tr th:only-of-type {\n        vertical-align: middle;\n    }\n\n    .dataframe tbody tr th {\n        vertical-align: top;\n    }\n\n    .dataframe thead th {\n        text-align: right;\n    }\n</style>\n<table border=\"1\" class=\"dataframe\">\n  <thead>\n    <tr style=\"text-align: right;\">\n      <th></th>\n      <th>name</th>\n      <th>id</th>\n      <th>duration_ms</th>\n      <th>explicit</th>\n      <th>popularity</th>\n      <th>danceability</th>\n      <th>energy</th>\n      <th>key</th>\n      <th>loudness</th>\n      <th>mode</th>\n      <th>...</th>\n      <th>liveness</th>\n      <th>valence</th>\n      <th>tempo</th>\n      <th>type</th>\n      <th>uri</th>\n      <th>track_href</th>\n      <th>analysis_url</th>\n      <th>time_signature</th>\n      <th>end_of_fade_in</th>\n      <th>start_of_fade_out</th>\n    </tr>\n  </thead>\n  <tbody>\n    <tr>\n      <th>0</th>\n      <td>Paradise (feat. Dermot Kennedy)</td>\n      <td>6ft4hAq6yde8jPZY2i5zLr</td>\n      <td>167903</td>\n      <td>False</td>\n      <td>90</td>\n      <td>0.632</td>\n      <td>0.595</td>\n      <td>8.0</td>\n      <td>-7.644</td>\n      <td>0.0</td>\n      <td>...</td>\n      <td>0.209</td>\n      <td>0.435</td>\n      <td>124.114</td>\n      <td>audio_features</td>\n      <td>spotify:track:6ft4hAq6yde8jPZY2i5zLr</td>\n      <td>https://api.spotify.com/v1/tracks/6ft4hAq6yde8...</td>\n      <td>https://api.spotify.com/v1/audio-analysis/6ft4...</td>\n      <td>4.0</td>\n      <td>0.0</td>\n      <td>164.94295</td>\n    </tr>\n  </tbody>\n</table>\n<p>1 rows × 23 columns</p>\n</div>"
     },
     "metadata": {},
     "execution_count": 26
    }
   ],
   "source": [
    "df.head(1)"
   ]
  },
  {
   "cell_type": "code",
   "execution_count": 27,
   "metadata": {},
   "outputs": [
    {
     "output_type": "execute_result",
     "data": {
      "text/plain": [
       "0       audio_features\n",
       "1       audio_features\n",
       "2       audio_features\n",
       "3       audio_features\n",
       "4       audio_features\n",
       "             ...      \n",
       "1033    audio_features\n",
       "1034    audio_features\n",
       "1035    audio_features\n",
       "1036    audio_features\n",
       "1037    audio_features\n",
       "Name: type, Length: 944, dtype: object"
      ]
     },
     "metadata": {},
     "execution_count": 27
    }
   ],
   "source": [
    "df[\"type\"]"
   ]
  },
  {
   "cell_type": "code",
   "execution_count": 28,
   "metadata": {},
   "outputs": [
    {
     "output_type": "execute_result",
     "data": {
      "text/plain": [
       "Empty DataFrame\n",
       "Columns: [name, id, duration_ms, explicit, popularity, danceability, energy, key, loudness, mode, speechiness, acousticness, instrumentalness, liveness, valence, tempo, type, uri, track_href, analysis_url, time_signature, end_of_fade_in, start_of_fade_out]\n",
       "Index: []\n",
       "\n",
       "[0 rows x 23 columns]"
      ],
      "text/html": "<div>\n<style scoped>\n    .dataframe tbody tr th:only-of-type {\n        vertical-align: middle;\n    }\n\n    .dataframe tbody tr th {\n        vertical-align: top;\n    }\n\n    .dataframe thead th {\n        text-align: right;\n    }\n</style>\n<table border=\"1\" class=\"dataframe\">\n  <thead>\n    <tr style=\"text-align: right;\">\n      <th></th>\n      <th>name</th>\n      <th>id</th>\n      <th>duration_ms</th>\n      <th>explicit</th>\n      <th>popularity</th>\n      <th>danceability</th>\n      <th>energy</th>\n      <th>key</th>\n      <th>loudness</th>\n      <th>mode</th>\n      <th>...</th>\n      <th>liveness</th>\n      <th>valence</th>\n      <th>tempo</th>\n      <th>type</th>\n      <th>uri</th>\n      <th>track_href</th>\n      <th>analysis_url</th>\n      <th>time_signature</th>\n      <th>end_of_fade_in</th>\n      <th>start_of_fade_out</th>\n    </tr>\n  </thead>\n  <tbody>\n  </tbody>\n</table>\n<p>0 rows × 23 columns</p>\n</div>"
     },
     "metadata": {},
     "execution_count": 28
    }
   ],
   "source": [
    "df[df[\"type\"] != \"audio_features\"]"
   ]
  },
  {
   "source": [
    "Type is also the same for every row"
   ],
   "cell_type": "markdown",
   "metadata": {}
  },
  {
   "cell_type": "code",
   "execution_count": 29,
   "metadata": {},
   "outputs": [],
   "source": [
    "df = df.drop([\"type\"], axis = 1)"
   ]
  },
  {
   "source": [
    "Let's see if uri, track_href, or analysis_url are interesting at all"
   ],
   "cell_type": "markdown",
   "metadata": {}
  },
  {
   "cell_type": "code",
   "execution_count": 30,
   "metadata": {},
   "outputs": [
    {
     "output_type": "execute_result",
     "data": {
      "text/plain": [
       "0       spotify:track:6ft4hAq6yde8jPZY2i5zLr\n",
       "1       spotify:track:3Be7CLdHZpyzsVijme39cW\n",
       "2       spotify:track:4Gcv5SsxnQWpmOnUI19EJk\n",
       "3       spotify:track:1MF0hyC0NLN0IcI4FpQKYl\n",
       "4       spotify:track:0PGpWcKIlayTwPdz6Qstol\n",
       "                        ...                 \n",
       "1033    spotify:track:0yixe2v2gvdFjjkYksdITQ\n",
       "1034    spotify:track:4J2mpvxYoHzjUkCjn1WEfY\n",
       "1035    spotify:track:1F4oy2dEExiaGFCgmO9VrB\n",
       "1036    spotify:track:63wlUcpD7LiFbBueVQAis7\n",
       "1037    spotify:track:1dA9GzuP546CjJT0n9tZoe\n",
       "Name: uri, Length: 944, dtype: object"
      ]
     },
     "metadata": {},
     "execution_count": 30
    }
   ],
   "source": [
    "df[\"uri\"]"
   ]
  },
  {
   "cell_type": "code",
   "execution_count": 31,
   "metadata": {},
   "outputs": [
    {
     "output_type": "execute_result",
     "data": {
      "text/plain": [
       "                       id                                   uri\n",
       "0  6ft4hAq6yde8jPZY2i5zLr  spotify:track:6ft4hAq6yde8jPZY2i5zLr\n",
       "1  3Be7CLdHZpyzsVijme39cW  spotify:track:3Be7CLdHZpyzsVijme39cW\n",
       "2  4Gcv5SsxnQWpmOnUI19EJk  spotify:track:4Gcv5SsxnQWpmOnUI19EJk"
      ],
      "text/html": "<div>\n<style scoped>\n    .dataframe tbody tr th:only-of-type {\n        vertical-align: middle;\n    }\n\n    .dataframe tbody tr th {\n        vertical-align: top;\n    }\n\n    .dataframe thead th {\n        text-align: right;\n    }\n</style>\n<table border=\"1\" class=\"dataframe\">\n  <thead>\n    <tr style=\"text-align: right;\">\n      <th></th>\n      <th>id</th>\n      <th>uri</th>\n    </tr>\n  </thead>\n  <tbody>\n    <tr>\n      <th>0</th>\n      <td>6ft4hAq6yde8jPZY2i5zLr</td>\n      <td>spotify:track:6ft4hAq6yde8jPZY2i5zLr</td>\n    </tr>\n    <tr>\n      <th>1</th>\n      <td>3Be7CLdHZpyzsVijme39cW</td>\n      <td>spotify:track:3Be7CLdHZpyzsVijme39cW</td>\n    </tr>\n    <tr>\n      <th>2</th>\n      <td>4Gcv5SsxnQWpmOnUI19EJk</td>\n      <td>spotify:track:4Gcv5SsxnQWpmOnUI19EJk</td>\n    </tr>\n  </tbody>\n</table>\n</div>"
     },
     "metadata": {},
     "execution_count": 31
    }
   ],
   "source": [
    "df[[\"id\", \"uri\"]].head(3)"
   ]
  },
  {
   "source": [
    "uri is just the track id with spotify:track: in front of it so uri won't be any help"
   ],
   "cell_type": "markdown",
   "metadata": {}
  },
  {
   "cell_type": "code",
   "execution_count": 32,
   "metadata": {},
   "outputs": [],
   "source": [
    "df = df.drop([\"uri\"], axis = 1)"
   ]
  },
  {
   "cell_type": "code",
   "execution_count": 33,
   "metadata": {},
   "outputs": [
    {
     "output_type": "execute_result",
     "data": {
      "text/plain": [
       "0    https://api.spotify.com/v1/tracks/6ft4hAq6yde8...\n",
       "1    https://api.spotify.com/v1/tracks/3Be7CLdHZpyz...\n",
       "2    https://api.spotify.com/v1/tracks/4Gcv5SsxnQWp...\n",
       "Name: track_href, dtype: object"
      ]
     },
     "metadata": {},
     "execution_count": 33
    }
   ],
   "source": [
    "df[\"track_href\"].head(3)"
   ]
  },
  {
   "source": [
    "track_href and analysis_url are a similar story"
   ],
   "cell_type": "markdown",
   "metadata": {}
  },
  {
   "cell_type": "code",
   "execution_count": 34,
   "metadata": {},
   "outputs": [],
   "source": [
    "df = df.drop([\"track_href\"], axis = 1)"
   ]
  },
  {
   "cell_type": "code",
   "execution_count": 35,
   "metadata": {},
   "outputs": [
    {
     "output_type": "stream",
     "name": "stdout",
     "text": [
      "https://api.spotify.com/v1/audio-analysis/6ft4hAq6yde8jPZY2i5zLr\nhttps://api.spotify.com/v1/audio-analysis/3Be7CLdHZpyzsVijme39cW\nhttps://api.spotify.com/v1/audio-analysis/4Gcv5SsxnQWpmOnUI19EJk\n"
     ]
    }
   ],
   "source": [
    "print(df[\"analysis_url\"].iloc[0])\n",
    "print(df[\"analysis_url\"].iloc[1])\n",
    "print(df[\"analysis_url\"].iloc[2])"
   ]
  },
  {
   "cell_type": "code",
   "execution_count": 36,
   "metadata": {},
   "outputs": [],
   "source": [
    "df = df.drop([\"analysis_url\"], axis = 1)"
   ]
  },
  {
   "cell_type": "code",
   "execution_count": 37,
   "metadata": {},
   "outputs": [
    {
     "output_type": "execute_result",
     "data": {
      "text/plain": [
       "                              name                      id  duration_ms  \\\n",
       "0  Paradise (feat. Dermot Kennedy)  6ft4hAq6yde8jPZY2i5zLr       167903   \n",
       "1    What's Love Got to Do with It  3Be7CLdHZpyzsVijme39cW       208156   \n",
       "\n",
       "   explicit  popularity  danceability  energy  key  loudness  mode  \\\n",
       "0     False          90         0.632   0.595  8.0    -7.644   0.0   \n",
       "1     False          80         0.750   0.664  8.0    -5.908   0.0   \n",
       "\n",
       "   speechiness  acousticness  instrumentalness  liveness  valence    tempo  \\\n",
       "0       0.0401        0.0689               0.0    0.2090    0.435  124.114   \n",
       "1       0.1540        0.2750               0.0    0.0632    0.617  105.023   \n",
       "\n",
       "   time_signature  end_of_fade_in  start_of_fade_out  \n",
       "0             4.0         0.00000          164.94295  \n",
       "1             4.0         0.17941          200.16762  "
      ],
      "text/html": "<div>\n<style scoped>\n    .dataframe tbody tr th:only-of-type {\n        vertical-align: middle;\n    }\n\n    .dataframe tbody tr th {\n        vertical-align: top;\n    }\n\n    .dataframe thead th {\n        text-align: right;\n    }\n</style>\n<table border=\"1\" class=\"dataframe\">\n  <thead>\n    <tr style=\"text-align: right;\">\n      <th></th>\n      <th>name</th>\n      <th>id</th>\n      <th>duration_ms</th>\n      <th>explicit</th>\n      <th>popularity</th>\n      <th>danceability</th>\n      <th>energy</th>\n      <th>key</th>\n      <th>loudness</th>\n      <th>mode</th>\n      <th>speechiness</th>\n      <th>acousticness</th>\n      <th>instrumentalness</th>\n      <th>liveness</th>\n      <th>valence</th>\n      <th>tempo</th>\n      <th>time_signature</th>\n      <th>end_of_fade_in</th>\n      <th>start_of_fade_out</th>\n    </tr>\n  </thead>\n  <tbody>\n    <tr>\n      <th>0</th>\n      <td>Paradise (feat. Dermot Kennedy)</td>\n      <td>6ft4hAq6yde8jPZY2i5zLr</td>\n      <td>167903</td>\n      <td>False</td>\n      <td>90</td>\n      <td>0.632</td>\n      <td>0.595</td>\n      <td>8.0</td>\n      <td>-7.644</td>\n      <td>0.0</td>\n      <td>0.0401</td>\n      <td>0.0689</td>\n      <td>0.0</td>\n      <td>0.2090</td>\n      <td>0.435</td>\n      <td>124.114</td>\n      <td>4.0</td>\n      <td>0.00000</td>\n      <td>164.94295</td>\n    </tr>\n    <tr>\n      <th>1</th>\n      <td>What's Love Got to Do with It</td>\n      <td>3Be7CLdHZpyzsVijme39cW</td>\n      <td>208156</td>\n      <td>False</td>\n      <td>80</td>\n      <td>0.750</td>\n      <td>0.664</td>\n      <td>8.0</td>\n      <td>-5.908</td>\n      <td>0.0</td>\n      <td>0.1540</td>\n      <td>0.2750</td>\n      <td>0.0</td>\n      <td>0.0632</td>\n      <td>0.617</td>\n      <td>105.023</td>\n      <td>4.0</td>\n      <td>0.17941</td>\n      <td>200.16762</td>\n    </tr>\n  </tbody>\n</table>\n</div>"
     },
     "metadata": {},
     "execution_count": 37
    }
   ],
   "source": [
    "df.head(2)"
   ]
  },
  {
   "cell_type": "code",
   "execution_count": 38,
   "metadata": {},
   "outputs": [
    {
     "output_type": "stream",
     "name": "stdout",
     "text": [
      "<class 'pandas.core.frame.DataFrame'>\nInt64Index: 944 entries, 0 to 1037\nData columns (total 19 columns):\n #   Column             Non-Null Count  Dtype  \n---  ------             --------------  -----  \n 0   name               944 non-null    object \n 1   id                 944 non-null    object \n 2   duration_ms        944 non-null    int64  \n 3   explicit           944 non-null    bool   \n 4   popularity         944 non-null    int64  \n 5   danceability       944 non-null    float64\n 6   energy             944 non-null    float64\n 7   key                944 non-null    float64\n 8   loudness           944 non-null    float64\n 9   mode               944 non-null    float64\n 10  speechiness        944 non-null    float64\n 11  acousticness       944 non-null    float64\n 12  instrumentalness   944 non-null    float64\n 13  liveness           944 non-null    float64\n 14  valence            944 non-null    float64\n 15  tempo              944 non-null    float64\n 16  time_signature     944 non-null    float64\n 17  end_of_fade_in     944 non-null    float64\n 18  start_of_fade_out  944 non-null    float64\ndtypes: bool(1), float64(14), int64(2), object(2)\nmemory usage: 141.0+ KB\n"
     ]
    }
   ],
   "source": [
    "df.info()"
   ]
  },
  {
   "source": [
    "The next step is to determine which variable are continuous and which are discrete / incremental. We won't worry about name and id for now"
   ],
   "cell_type": "markdown",
   "metadata": {}
  },
  {
   "cell_type": "code",
   "execution_count": 39,
   "metadata": {},
   "outputs": [
    {
     "output_type": "execute_result",
     "data": {
      "text/plain": [
       "0    167903\n",
       "1    208156\n",
       "2    238458\n",
       "Name: duration_ms, dtype: int64"
      ]
     },
     "metadata": {},
     "execution_count": 39
    }
   ],
   "source": [
    "df[\"duration_ms\"].head(3) #definitely a continuous value"
   ]
  },
  {
   "cell_type": "code",
   "execution_count": 40,
   "metadata": {},
   "outputs": [
    {
     "output_type": "execute_result",
     "data": {
      "text/plain": [
       "False    904\n",
       "True      40\n",
       "Name: explicit, dtype: int64"
      ]
     },
     "metadata": {},
     "execution_count": 40
    }
   ],
   "source": [
    "df[\"explicit\"].value_counts()"
   ]
  },
  {
   "cell_type": "code",
   "execution_count": 43,
   "metadata": {},
   "outputs": [
    {
     "output_type": "execute_result",
     "data": {
      "text/plain": [
       "65                                       It Won't Stop Me\n",
       "82                                  Roses - Imanbek Remix\n",
       "97                                            Shame On Me\n",
       "120                    Without You (feat. Sandro Cavazza)\n",
       "127                                                 Money\n",
       "235           I'm Your Friend Juicy Pen (Radio Trap Edit)\n",
       "245                             Bleu Chanel (NA-NO Remix)\n",
       "248                                             Instagram\n",
       "249                                Rave (feat. Kris Kiss)\n",
       "259                      Thing For You - Don Diablo Remix\n",
       "290                                       Change My Heart\n",
       "296              WTF (feat. Amber Van Day) - Tujamo Remix\n",
       "483                          So Cold (feat. Lily Denning)\n",
       "563                         Day 'N' Nite - Crookers Remix\n",
       "613                                      Internet Friends\n",
       "646                                  Who Is Ready to Jump\n",
       "656     Pursuit Of Happiness - Extended Steve Aoki Rem...\n",
       "698                                  Creep - mint Singles\n",
       "708                            Issues - Alan Walker Remix\n",
       "724                              HUMBLE. - SKRILLEX REMIX\n",
       "757                                      Crawl Outta Love\n",
       "763                           Without Me - ILLENIUM Remix\n",
       "785                                Feels - Jai Wolf Remix\n",
       "791                           It's Strange (feat. K.Flay)\n",
       "802                                    Often - Kygo Remix\n",
       "822                                                Say It\n",
       "825                                    idfc (Tarro Remix)\n",
       "830                                             Tennessee\n",
       "839                         Never Be Like You (feat. Kai)\n",
       "847     All My Friends (feat. Tinashe & Chance the Rap...\n",
       "849                               Say It - Illenium Remix\n",
       "949     Old Thing Back (feat. Ja Rule and Ralph Tresvant)\n",
       "960                                      Go Fuck Yourself\n",
       "968                                                  NUMB\n",
       "975                                          Just Friends\n",
       "991                                       Had Some Drinks\n",
       "998                                             Different\n",
       "999                                               Options\n",
       "1021                                Roses - Imanbek Remix\n",
       "1033                                         Lana Del Dre\n",
       "Name: name, dtype: object"
      ]
     },
     "metadata": {},
     "execution_count": 43
    }
   ],
   "source": [
    "#explore names of explicit songs\n",
    "df[df[\"explicit\"] == True][\"name\"]"
   ]
  },
  {
   "source": [
    "We should be able to keep explicit as boolean but can change it to int if needed"
   ],
   "cell_type": "markdown",
   "metadata": {}
  },
  {
   "cell_type": "code",
   "execution_count": 52,
   "metadata": {},
   "outputs": [
    {
     "output_type": "execute_result",
     "data": {
      "text/plain": [
       "       popularity  acousticness  danceability      energy  instrumentalness  \\\n",
       "count  944.000000    944.000000    944.000000  944.000000        944.000000   \n",
       "mean    43.483051      0.109521      0.622121    0.765781          0.155554   \n",
       "std     21.897276      0.169090      0.121056    0.148381          0.285037   \n",
       "min      0.000000      0.000023      0.184000    0.114000          0.000000   \n",
       "25%     32.000000      0.005755      0.544000    0.684750          0.000004   \n",
       "50%     48.000000      0.031850      0.629000    0.794000          0.001465   \n",
       "75%     59.000000      0.148000      0.706000    0.878000          0.134000   \n",
       "max     90.000000      0.967000      0.946000    0.999000          0.972000   \n",
       "\n",
       "         liveness    loudness  speechiness     valence  \n",
       "count  944.000000  944.000000   944.000000  944.000000  \n",
       "mean     0.206735   -5.643966     0.075997    0.366817  \n",
       "std      0.165790    2.284321     0.072305    0.205753  \n",
       "min      0.022200  -20.792000     0.025700    0.031600  \n",
       "25%      0.095050   -6.841250     0.039575    0.195000  \n",
       "50%      0.139000   -5.318500     0.051100    0.351000  \n",
       "75%      0.283500   -3.995500     0.079225    0.510250  \n",
       "max      0.956000   -0.570000     0.869000    0.977000  "
      ],
      "text/html": "<div>\n<style scoped>\n    .dataframe tbody tr th:only-of-type {\n        vertical-align: middle;\n    }\n\n    .dataframe tbody tr th {\n        vertical-align: top;\n    }\n\n    .dataframe thead th {\n        text-align: right;\n    }\n</style>\n<table border=\"1\" class=\"dataframe\">\n  <thead>\n    <tr style=\"text-align: right;\">\n      <th></th>\n      <th>popularity</th>\n      <th>acousticness</th>\n      <th>danceability</th>\n      <th>energy</th>\n      <th>instrumentalness</th>\n      <th>liveness</th>\n      <th>loudness</th>\n      <th>speechiness</th>\n      <th>valence</th>\n    </tr>\n  </thead>\n  <tbody>\n    <tr>\n      <th>count</th>\n      <td>944.000000</td>\n      <td>944.000000</td>\n      <td>944.000000</td>\n      <td>944.000000</td>\n      <td>944.000000</td>\n      <td>944.000000</td>\n      <td>944.000000</td>\n      <td>944.000000</td>\n      <td>944.000000</td>\n    </tr>\n    <tr>\n      <th>mean</th>\n      <td>43.483051</td>\n      <td>0.109521</td>\n      <td>0.622121</td>\n      <td>0.765781</td>\n      <td>0.155554</td>\n      <td>0.206735</td>\n      <td>-5.643966</td>\n      <td>0.075997</td>\n      <td>0.366817</td>\n    </tr>\n    <tr>\n      <th>std</th>\n      <td>21.897276</td>\n      <td>0.169090</td>\n      <td>0.121056</td>\n      <td>0.148381</td>\n      <td>0.285037</td>\n      <td>0.165790</td>\n      <td>2.284321</td>\n      <td>0.072305</td>\n      <td>0.205753</td>\n    </tr>\n    <tr>\n      <th>min</th>\n      <td>0.000000</td>\n      <td>0.000023</td>\n      <td>0.184000</td>\n      <td>0.114000</td>\n      <td>0.000000</td>\n      <td>0.022200</td>\n      <td>-20.792000</td>\n      <td>0.025700</td>\n      <td>0.031600</td>\n    </tr>\n    <tr>\n      <th>25%</th>\n      <td>32.000000</td>\n      <td>0.005755</td>\n      <td>0.544000</td>\n      <td>0.684750</td>\n      <td>0.000004</td>\n      <td>0.095050</td>\n      <td>-6.841250</td>\n      <td>0.039575</td>\n      <td>0.195000</td>\n    </tr>\n    <tr>\n      <th>50%</th>\n      <td>48.000000</td>\n      <td>0.031850</td>\n      <td>0.629000</td>\n      <td>0.794000</td>\n      <td>0.001465</td>\n      <td>0.139000</td>\n      <td>-5.318500</td>\n      <td>0.051100</td>\n      <td>0.351000</td>\n    </tr>\n    <tr>\n      <th>75%</th>\n      <td>59.000000</td>\n      <td>0.148000</td>\n      <td>0.706000</td>\n      <td>0.878000</td>\n      <td>0.134000</td>\n      <td>0.283500</td>\n      <td>-3.995500</td>\n      <td>0.079225</td>\n      <td>0.510250</td>\n    </tr>\n    <tr>\n      <th>max</th>\n      <td>90.000000</td>\n      <td>0.967000</td>\n      <td>0.946000</td>\n      <td>0.999000</td>\n      <td>0.972000</td>\n      <td>0.956000</td>\n      <td>-0.570000</td>\n      <td>0.869000</td>\n      <td>0.977000</td>\n    </tr>\n  </tbody>\n</table>\n</div>"
     },
     "metadata": {},
     "execution_count": 52
    }
   ],
   "source": [
    " df[[\"popularity\", \"acousticness\", \"danceability\", \"energy\", \"instrumentalness\", \"liveness\", \"loudness\", \"speechiness\", \"valence\"]].describe()"
   ]
  },
  {
   "source": [
    "All continuous (check Spotify API Endpoint Reference for Get Audio Features for a Track)"
   ],
   "cell_type": "markdown",
   "metadata": {}
  },
  {
   "source": [
    "Loudness is negative but the Spotify documentation says \"values typical range between -60 and 0 db\" so we don't need to worry"
   ],
   "cell_type": "markdown",
   "metadata": {}
  },
  {
   "cell_type": "code",
   "execution_count": 45,
   "metadata": {},
   "outputs": [
    {
     "output_type": "execute_result",
     "data": {
      "text/plain": [
       "0    8.0\n",
       "1    8.0\n",
       "2    0.0\n",
       "3    7.0\n",
       "4    8.0\n",
       "Name: key, dtype: float64"
      ]
     },
     "metadata": {},
     "execution_count": 45
    }
   ],
   "source": [
    "df[\"key\"].head()"
   ]
  },
  {
   "source": [
    "Key is \"The estimated overall key of the track. Integers map to pitches using standard Pitch Class notation . E.g. 0 = C, 1 = C♯/D♭, 2 = D, and so on. If no key was detected, the value is -1.\"\n",
    "\n",
    "So key is a discrete value and we need to convert it to one"
   ],
   "cell_type": "markdown",
   "metadata": {}
  },
  {
   "source": [
    "Mode \"indicates the modality (major or minor) of a track, the type of scale from which its melodic content is derived. Major is represented by 1 and minor is 0\"\n",
    "\n",
    "So we will need to convert it as well"
   ],
   "cell_type": "markdown",
   "metadata": {}
  },
  {
   "source": [
    "# TO DO: Get dummies"
   ],
   "cell_type": "markdown",
   "metadata": {}
  },
  {
   "source": [
    "We still need to check tempo, time_signature, end_of_fade_in, and start_of_fade_out"
   ],
   "cell_type": "markdown",
   "metadata": {}
  },
  {
   "cell_type": "code",
   "execution_count": null,
   "metadata": {},
   "outputs": [],
   "source": []
  }
 ]
}