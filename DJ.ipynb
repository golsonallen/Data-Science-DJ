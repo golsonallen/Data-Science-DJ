{
 "metadata": {
  "language_info": {
   "codemirror_mode": {
    "name": "ipython",
    "version": 3
   },
   "file_extension": ".py",
   "mimetype": "text/x-python",
   "name": "python",
   "nbconvert_exporter": "python",
   "pygments_lexer": "ipython3",
   "version": "3.8.3-final"
  },
  "orig_nbformat": 2,
  "kernelspec": {
   "name": "python38364bitd27ebbbf080c47bb8babadfe830c3431",
   "display_name": "Python 3.8.3 64-bit",
   "language": "python"
  }
 },
 "nbformat": 4,
 "nbformat_minor": 2,
 "cells": [
  {
   "cell_type": "code",
   "execution_count": 1,
   "metadata": {},
   "outputs": [],
   "source": [
    "import pandas as pd"
   ]
  },
  {
   "cell_type": "code",
   "execution_count": 2,
   "metadata": {},
   "outputs": [],
   "source": [
    "df = pd.read_csv(\"out3.csv\")"
   ]
  },
  {
   "cell_type": "code",
   "execution_count": 3,
   "metadata": {},
   "outputs": [
    {
     "output_type": "execute_result",
     "data": {
      "text/plain": [
       "                              name                      id  duration_ms  \\\n",
       "0                     Sunset Lover  6c6DEpGAvs1rzJkCp1ej8T       237677   \n",
       "1               How Did I Get Here  4aJnMRNeuDZSQN7FaSNGtM       131250   \n",
       "2  Fais rien (Petit Biscuit Remix)  47aJVCjJoLymHdNgQ1TpMt       227697   \n",
       "3                    Clair De Lune  3VUwNDO9rjD6DdEZVqH610       463226   \n",
       "4                         Memories  2EEZdCeGp095urJDE3wEpS       216032   \n",
       "\n",
       "   explicit  popularity                                            artists  \n",
       "0     False          45  [{'external_urls': {'spotify': 'https://open.s...  \n",
       "1     False          61  [{'external_urls': {'spotify': 'https://open.s...  \n",
       "2     False           0  [{'external_urls': {'spotify': 'https://open.s...  \n",
       "3     False           0  [{'external_urls': {'spotify': 'https://open.s...  \n",
       "4     False          56  [{'external_urls': {'spotify': 'https://open.s...  "
      ],
      "text/html": "<div>\n<style scoped>\n    .dataframe tbody tr th:only-of-type {\n        vertical-align: middle;\n    }\n\n    .dataframe tbody tr th {\n        vertical-align: top;\n    }\n\n    .dataframe thead th {\n        text-align: right;\n    }\n</style>\n<table border=\"1\" class=\"dataframe\">\n  <thead>\n    <tr style=\"text-align: right;\">\n      <th></th>\n      <th>name</th>\n      <th>id</th>\n      <th>duration_ms</th>\n      <th>explicit</th>\n      <th>popularity</th>\n      <th>artists</th>\n    </tr>\n  </thead>\n  <tbody>\n    <tr>\n      <th>0</th>\n      <td>Sunset Lover</td>\n      <td>6c6DEpGAvs1rzJkCp1ej8T</td>\n      <td>237677</td>\n      <td>False</td>\n      <td>45</td>\n      <td>[{'external_urls': {'spotify': 'https://open.s...</td>\n    </tr>\n    <tr>\n      <th>1</th>\n      <td>How Did I Get Here</td>\n      <td>4aJnMRNeuDZSQN7FaSNGtM</td>\n      <td>131250</td>\n      <td>False</td>\n      <td>61</td>\n      <td>[{'external_urls': {'spotify': 'https://open.s...</td>\n    </tr>\n    <tr>\n      <th>2</th>\n      <td>Fais rien (Petit Biscuit Remix)</td>\n      <td>47aJVCjJoLymHdNgQ1TpMt</td>\n      <td>227697</td>\n      <td>False</td>\n      <td>0</td>\n      <td>[{'external_urls': {'spotify': 'https://open.s...</td>\n    </tr>\n    <tr>\n      <th>3</th>\n      <td>Clair De Lune</td>\n      <td>3VUwNDO9rjD6DdEZVqH610</td>\n      <td>463226</td>\n      <td>False</td>\n      <td>0</td>\n      <td>[{'external_urls': {'spotify': 'https://open.s...</td>\n    </tr>\n    <tr>\n      <th>4</th>\n      <td>Memories</td>\n      <td>2EEZdCeGp095urJDE3wEpS</td>\n      <td>216032</td>\n      <td>False</td>\n      <td>56</td>\n      <td>[{'external_urls': {'spotify': 'https://open.s...</td>\n    </tr>\n  </tbody>\n</table>\n</div>"
     },
     "metadata": {},
     "execution_count": 3
    }
   ],
   "source": [
    "df.head()"
   ]
  },
  {
   "cell_type": "code",
   "execution_count": 4,
   "metadata": {},
   "outputs": [
    {
     "output_type": "execute_result",
     "data": {
      "text/plain": [
       "0    [{'external_urls': {'spotify': 'https://open.s...\n",
       "Name: artists, dtype: object"
      ]
     },
     "metadata": {},
     "execution_count": 4
    }
   ],
   "source": [
    "df.head(1)[\"artists\"]"
   ]
  },
  {
   "cell_type": "code",
   "execution_count": 7,
   "metadata": {},
   "outputs": [
    {
     "output_type": "execute_result",
     "data": {
      "text/plain": [
       "[\"[{'external_urls': {'spotify': 'https://open.spotify.com/artist/6gK1Uct5FEdaUWRWpU4Cl2'}, 'href': 'https://api.spotify.com/v1/artists/6gK1Uct5FEdaUWRWpU4Cl2', 'id': '6gK1Uct5FEdaUWRWpU4Cl2', 'name': 'Petit Biscuit', 'type': 'artist', 'uri': 'spotify:artist:6gK1Uct5FEdaUWRWpU4Cl2'}]\"]"
      ]
     },
     "metadata": {},
     "execution_count": 7
    }
   ],
   "source": [
    "list(df.head(1)[\"artists\"])"
   ]
  },
  {
   "cell_type": "code",
   "execution_count": 14,
   "metadata": {},
   "outputs": [
    {
     "output_type": "execute_result",
     "data": {
      "text/plain": [
       "\"[{'external_urls': {'spotify': 'https://open.spotify.com/artist/6gK1Uct5FEdaUWRWpU4Cl2'}, 'href': 'https://api.spotify.com/v1/artists/6gK1Uct5FEdaUWRWpU4Cl2', 'id': '6gK1Uct5FEdaUWRWpU4Cl2', 'name': 'Petit Biscuit', 'type': 'artist', 'uri': 'spotify:artist:6gK1Uct5FEdaUWRWpU4Cl2'}]\""
      ]
     },
     "metadata": {},
     "execution_count": 14
    }
   ],
   "source": [
    "df.head(1)[\"artists\"][0]"
   ]
  },
  {
   "cell_type": "code",
   "execution_count": 16,
   "metadata": {},
   "outputs": [
    {
     "output_type": "execute_result",
     "data": {
      "text/plain": [
       "str"
      ]
     },
     "metadata": {},
     "execution_count": 16
    }
   ],
   "source": [
    "type(df.head(1)[\"artists\"][0])"
   ]
  },
  {
   "cell_type": "code",
   "execution_count": 24,
   "metadata": {},
   "outputs": [
    {
     "output_type": "execute_result",
     "data": {
      "text/plain": [
       "[\"[{'external_urls':\",\n",
       " \"{'spotify':\",\n",
       " \"'https://open.spotify.com/artist/6gK1Uct5FEdaUWRWpU4Cl2'},\",\n",
       " \"'href':\",\n",
       " \"'https://api.spotify.com/v1/artists/6gK1Uct5FEdaUWRWpU4Cl2',\",\n",
       " \"'id':\",\n",
       " \"'6gK1Uct5FEdaUWRWpU4Cl2',\",\n",
       " \"'name':\",\n",
       " \"'Petit\",\n",
       " \"Biscuit',\",\n",
       " \"'type':\",\n",
       " \"'artist',\",\n",
       " \"'uri':\",\n",
       " \"'spotify:artist:6gK1Uct5FEdaUWRWpU4Cl2'}]\"]"
      ]
     },
     "metadata": {},
     "execution_count": 24
    }
   ],
   "source": [
    "df.head(1)[\"artists\"][0].split()"
   ]
  },
  {
   "cell_type": "code",
   "execution_count": 28,
   "metadata": {},
   "outputs": [
    {
     "output_type": "execute_result",
     "data": {
      "text/plain": [
       "265"
      ]
     },
     "metadata": {},
     "execution_count": 28
    }
   ],
   "source": [
    "len(df)"
   ]
  },
  {
   "cell_type": "code",
   "execution_count": 32,
   "metadata": {},
   "outputs": [],
   "source": [
    "import numpy as np"
   ]
  },
  {
   "cell_type": "code",
   "execution_count": 36,
   "metadata": {},
   "outputs": [],
   "source": [
    "testDict = {\n",
    "    \"id\": \"123\",\n",
    "    \"fade_in\": 0,\n",
    "    \"fade_out\": 3573456,\n",
    "    \"sample_rate\": 22000\n",
    "}"
   ]
  },
  {
   "cell_type": "code",
   "execution_count": 37,
   "metadata": {},
   "outputs": [],
   "source": [
    "analysis_df = pd.DataFrame.from_records([testDict])"
   ]
  },
  {
   "cell_type": "code",
   "execution_count": 38,
   "metadata": {},
   "outputs": [
    {
     "output_type": "execute_result",
     "data": {
      "text/plain": [
       "    id  fade_in  fade_out  sample_rate\n",
       "0  123        0   3573456        22000"
      ],
      "text/html": "<div>\n<style scoped>\n    .dataframe tbody tr th:only-of-type {\n        vertical-align: middle;\n    }\n\n    .dataframe tbody tr th {\n        vertical-align: top;\n    }\n\n    .dataframe thead th {\n        text-align: right;\n    }\n</style>\n<table border=\"1\" class=\"dataframe\">\n  <thead>\n    <tr style=\"text-align: right;\">\n      <th></th>\n      <th>id</th>\n      <th>fade_in</th>\n      <th>fade_out</th>\n      <th>sample_rate</th>\n    </tr>\n  </thead>\n  <tbody>\n    <tr>\n      <th>0</th>\n      <td>123</td>\n      <td>0</td>\n      <td>3573456</td>\n      <td>22000</td>\n    </tr>\n  </tbody>\n</table>\n</div>"
     },
     "metadata": {},
     "execution_count": 38
    }
   ],
   "source": [
    "analysis_df"
   ]
  },
  {
   "cell_type": "code",
   "execution_count": null,
   "metadata": {},
   "outputs": [],
   "source": []
  }
 ]
}