{
 "metadata": {
  "language_info": {
   "codemirror_mode": {
    "name": "ipython",
    "version": 3
   },
   "file_extension": ".py",
   "mimetype": "text/x-python",
   "name": "python",
   "nbconvert_exporter": "python",
   "pygments_lexer": "ipython3",
   "version": "3.8.3-final"
  },
  "orig_nbformat": 2,
  "kernelspec": {
   "name": "python38364bitd27ebbbf080c47bb8babadfe830c3431",
   "display_name": "Python 3.8.3 64-bit",
   "language": "python"
  }
 },
 "nbformat": 4,
 "nbformat_minor": 2,
 "cells": [
  {
   "source": [
    "# Data Science DJ"
   ],
   "cell_type": "markdown",
   "metadata": {}
  },
  {
   "source": [
    "## By Griffin Olson-Allen"
   ],
   "cell_type": "markdown",
   "metadata": {}
  },
  {
   "source": [
    "## Cleaning, visualizing, and predicting using the song data gathered in dataCollection.py"
   ],
   "cell_type": "markdown",
   "metadata": {}
  },
  {
   "source": [
    "## Part 1: Cleaning"
   ],
   "cell_type": "markdown",
   "metadata": {}
  },
  {
   "cell_type": "code",
   "execution_count": 55,
   "metadata": {},
   "outputs": [],
   "source": [
    "import pandas as pd\n",
    "import numpy as np\n",
    "import seaborn as sns\n",
    "import matplotlib.pyplot as plt"
   ]
  },
  {
   "cell_type": "code",
   "execution_count": 56,
   "metadata": {},
   "outputs": [],
   "source": [
    "df = pd.read_csv(\"song_data.csv\")"
   ]
  },
  {
   "cell_type": "code",
   "execution_count": 57,
   "metadata": {},
   "outputs": [
    {
     "output_type": "execute_result",
     "data": {
      "text/plain": [
       "1038"
      ]
     },
     "metadata": {},
     "execution_count": 57
    }
   ],
   "source": [
    "len(df)"
   ]
  },
  {
   "cell_type": "code",
   "execution_count": 58,
   "metadata": {},
   "outputs": [
    {
     "output_type": "execute_result",
     "data": {
      "text/plain": [
       "                                         name                      id  \\\n",
       "0             Paradise (feat. Dermot Kennedy)  6ft4hAq6yde8jPZY2i5zLr   \n",
       "1               What's Love Got to Do with It  3Be7CLdHZpyzsVijme39cW   \n",
       "2  All You Need To Know (feat. Calle Lehmann)  4Gcv5SsxnQWpmOnUI19EJk   \n",
       "3                                    Dreamers  1MF0hyC0NLN0IcI4FpQKYl   \n",
       "4                      Big Love (with Wrabel)  0PGpWcKIlayTwPdz6Qstol   \n",
       "\n",
       "   duration_ms_x  explicit  popularity  danceability  energy  key  loudness  \\\n",
       "0         167903     False          90         0.632   0.595  8.0    -7.644   \n",
       "1         208156     False          80         0.750   0.664  8.0    -5.908   \n",
       "2         238458     False          72         0.513   0.788  0.0    -4.629   \n",
       "3         181935     False          50         0.780   0.808  7.0    -4.913   \n",
       "4         182115     False          57         0.483   0.761  8.0    -7.150   \n",
       "\n",
       "   mode  ...            type                                   uri  \\\n",
       "0   0.0  ...  audio_features  spotify:track:6ft4hAq6yde8jPZY2i5zLr   \n",
       "1   0.0  ...  audio_features  spotify:track:3Be7CLdHZpyzsVijme39cW   \n",
       "2   1.0  ...  audio_features  spotify:track:4Gcv5SsxnQWpmOnUI19EJk   \n",
       "3   1.0  ...  audio_features  spotify:track:1MF0hyC0NLN0IcI4FpQKYl   \n",
       "4   0.0  ...  audio_features  spotify:track:0PGpWcKIlayTwPdz6Qstol   \n",
       "\n",
       "                                          track_href  \\\n",
       "0  https://api.spotify.com/v1/tracks/6ft4hAq6yde8...   \n",
       "1  https://api.spotify.com/v1/tracks/3Be7CLdHZpyz...   \n",
       "2  https://api.spotify.com/v1/tracks/4Gcv5SsxnQWp...   \n",
       "3  https://api.spotify.com/v1/tracks/1MF0hyC0NLN0...   \n",
       "4  https://api.spotify.com/v1/tracks/0PGpWcKIlayT...   \n",
       "\n",
       "                                        analysis_url  duration_ms_y  \\\n",
       "0  https://api.spotify.com/v1/audio-analysis/6ft4...       167903.0   \n",
       "1  https://api.spotify.com/v1/audio-analysis/3Be7...       208156.0   \n",
       "2  https://api.spotify.com/v1/audio-analysis/4Gcv...       238459.0   \n",
       "3  https://api.spotify.com/v1/audio-analysis/1MF0...       181935.0   \n",
       "4  https://api.spotify.com/v1/audio-analysis/0PGp...       182116.0   \n",
       "\n",
       "   time_signature end_of_fade_in start_of_fade_out analysis_sample_rate error  \n",
       "0             4.0        0.00000         164.94295                22050   NaN  \n",
       "1             4.0        0.17941         200.16762                22050   NaN  \n",
       "2             4.0        3.70939         230.09235                22050   NaN  \n",
       "3             4.0        0.47596         177.35982                22050   NaN  \n",
       "4             4.0        2.17107         176.52971                22050   NaN  \n",
       "\n",
       "[5 rows x 26 columns]"
      ],
      "text/html": "<div>\n<style scoped>\n    .dataframe tbody tr th:only-of-type {\n        vertical-align: middle;\n    }\n\n    .dataframe tbody tr th {\n        vertical-align: top;\n    }\n\n    .dataframe thead th {\n        text-align: right;\n    }\n</style>\n<table border=\"1\" class=\"dataframe\">\n  <thead>\n    <tr style=\"text-align: right;\">\n      <th></th>\n      <th>name</th>\n      <th>id</th>\n      <th>duration_ms_x</th>\n      <th>explicit</th>\n      <th>popularity</th>\n      <th>danceability</th>\n      <th>energy</th>\n      <th>key</th>\n      <th>loudness</th>\n      <th>mode</th>\n      <th>...</th>\n      <th>type</th>\n      <th>uri</th>\n      <th>track_href</th>\n      <th>analysis_url</th>\n      <th>duration_ms_y</th>\n      <th>time_signature</th>\n      <th>end_of_fade_in</th>\n      <th>start_of_fade_out</th>\n      <th>analysis_sample_rate</th>\n      <th>error</th>\n    </tr>\n  </thead>\n  <tbody>\n    <tr>\n      <th>0</th>\n      <td>Paradise (feat. Dermot Kennedy)</td>\n      <td>6ft4hAq6yde8jPZY2i5zLr</td>\n      <td>167903</td>\n      <td>False</td>\n      <td>90</td>\n      <td>0.632</td>\n      <td>0.595</td>\n      <td>8.0</td>\n      <td>-7.644</td>\n      <td>0.0</td>\n      <td>...</td>\n      <td>audio_features</td>\n      <td>spotify:track:6ft4hAq6yde8jPZY2i5zLr</td>\n      <td>https://api.spotify.com/v1/tracks/6ft4hAq6yde8...</td>\n      <td>https://api.spotify.com/v1/audio-analysis/6ft4...</td>\n      <td>167903.0</td>\n      <td>4.0</td>\n      <td>0.00000</td>\n      <td>164.94295</td>\n      <td>22050</td>\n      <td>NaN</td>\n    </tr>\n    <tr>\n      <th>1</th>\n      <td>What's Love Got to Do with It</td>\n      <td>3Be7CLdHZpyzsVijme39cW</td>\n      <td>208156</td>\n      <td>False</td>\n      <td>80</td>\n      <td>0.750</td>\n      <td>0.664</td>\n      <td>8.0</td>\n      <td>-5.908</td>\n      <td>0.0</td>\n      <td>...</td>\n      <td>audio_features</td>\n      <td>spotify:track:3Be7CLdHZpyzsVijme39cW</td>\n      <td>https://api.spotify.com/v1/tracks/3Be7CLdHZpyz...</td>\n      <td>https://api.spotify.com/v1/audio-analysis/3Be7...</td>\n      <td>208156.0</td>\n      <td>4.0</td>\n      <td>0.17941</td>\n      <td>200.16762</td>\n      <td>22050</td>\n      <td>NaN</td>\n    </tr>\n    <tr>\n      <th>2</th>\n      <td>All You Need To Know (feat. Calle Lehmann)</td>\n      <td>4Gcv5SsxnQWpmOnUI19EJk</td>\n      <td>238458</td>\n      <td>False</td>\n      <td>72</td>\n      <td>0.513</td>\n      <td>0.788</td>\n      <td>0.0</td>\n      <td>-4.629</td>\n      <td>1.0</td>\n      <td>...</td>\n      <td>audio_features</td>\n      <td>spotify:track:4Gcv5SsxnQWpmOnUI19EJk</td>\n      <td>https://api.spotify.com/v1/tracks/4Gcv5SsxnQWp...</td>\n      <td>https://api.spotify.com/v1/audio-analysis/4Gcv...</td>\n      <td>238459.0</td>\n      <td>4.0</td>\n      <td>3.70939</td>\n      <td>230.09235</td>\n      <td>22050</td>\n      <td>NaN</td>\n    </tr>\n    <tr>\n      <th>3</th>\n      <td>Dreamers</td>\n      <td>1MF0hyC0NLN0IcI4FpQKYl</td>\n      <td>181935</td>\n      <td>False</td>\n      <td>50</td>\n      <td>0.780</td>\n      <td>0.808</td>\n      <td>7.0</td>\n      <td>-4.913</td>\n      <td>1.0</td>\n      <td>...</td>\n      <td>audio_features</td>\n      <td>spotify:track:1MF0hyC0NLN0IcI4FpQKYl</td>\n      <td>https://api.spotify.com/v1/tracks/1MF0hyC0NLN0...</td>\n      <td>https://api.spotify.com/v1/audio-analysis/1MF0...</td>\n      <td>181935.0</td>\n      <td>4.0</td>\n      <td>0.47596</td>\n      <td>177.35982</td>\n      <td>22050</td>\n      <td>NaN</td>\n    </tr>\n    <tr>\n      <th>4</th>\n      <td>Big Love (with Wrabel)</td>\n      <td>0PGpWcKIlayTwPdz6Qstol</td>\n      <td>182115</td>\n      <td>False</td>\n      <td>57</td>\n      <td>0.483</td>\n      <td>0.761</td>\n      <td>8.0</td>\n      <td>-7.150</td>\n      <td>0.0</td>\n      <td>...</td>\n      <td>audio_features</td>\n      <td>spotify:track:0PGpWcKIlayTwPdz6Qstol</td>\n      <td>https://api.spotify.com/v1/tracks/0PGpWcKIlayT...</td>\n      <td>https://api.spotify.com/v1/audio-analysis/0PGp...</td>\n      <td>182116.0</td>\n      <td>4.0</td>\n      <td>2.17107</td>\n      <td>176.52971</td>\n      <td>22050</td>\n      <td>NaN</td>\n    </tr>\n  </tbody>\n</table>\n<p>5 rows × 26 columns</p>\n</div>"
     },
     "metadata": {},
     "execution_count": 58
    }
   ],
   "source": [
    "df.head()"
   ]
  },
  {
   "cell_type": "code",
   "execution_count": 59,
   "metadata": {},
   "outputs": [
    {
     "output_type": "stream",
     "name": "stdout",
     "text": [
      "<class 'pandas.core.frame.DataFrame'>\nRangeIndex: 1038 entries, 0 to 1037\nData columns (total 26 columns):\n #   Column                Non-Null Count  Dtype  \n---  ------                --------------  -----  \n 0   name                  1038 non-null   object \n 1   id                    1038 non-null   object \n 2   duration_ms_x         1038 non-null   int64  \n 3   explicit              1038 non-null   bool   \n 4   popularity            1038 non-null   int64  \n 5   danceability          1038 non-null   float64\n 6   energy                1038 non-null   float64\n 7   key                   1038 non-null   float64\n 8   loudness              1038 non-null   float64\n 9   mode                  1038 non-null   float64\n 10  speechiness           1038 non-null   float64\n 11  acousticness          1038 non-null   float64\n 12  instrumentalness      1038 non-null   float64\n 13  liveness              1038 non-null   float64\n 14  valence               1038 non-null   float64\n 15  tempo                 1038 non-null   float64\n 16  type                  1038 non-null   object \n 17  uri                   1038 non-null   object \n 18  track_href            1038 non-null   object \n 19  analysis_url          1038 non-null   object \n 20  duration_ms_y         1038 non-null   float64\n 21  time_signature        1038 non-null   float64\n 22  end_of_fade_in        1038 non-null   float64\n 23  start_of_fade_out     1038 non-null   float64\n 24  analysis_sample_rate  1038 non-null   int64  \n 25  error                 0 non-null      float64\ndtypes: bool(1), float64(16), int64(3), object(6)\nmemory usage: 203.9+ KB\n"
     ]
    }
   ],
   "source": [
    "df.info()"
   ]
  },
  {
   "source": [
    "## Features\n",
    "\n",
    "#### name: The name of the track.\n",
    "#### id: The Spotify ID for the track\n",
    "#### duration_ms_x: The track length in milliseconds.\n",
    "#### explicit: Whether or not the track has explicit lyrics ( true = yes it does; false = no it does not OR unknown).\n",
    "#### popularity: The popularity of the track. The value will be between 0 and 100, with 100 being the most popular.\n",
    "#### danceability: Danceability describes how suitable a track is for dancing based on a combination of musical elements.\n",
    "#### energy: Energy is a measure from 0.0 to 1.0 and represents a perceptual measure of intensity and activity.\n",
    "#### key: The estimated overall key of the track. Integers map to pitches using standard Pitch Class notation . E.g. 0 = C, 1 = C♯/D♭, 2 = D, and so on.\n",
    "#### loudness: The overall loudness of a track in decibels (dB).\n",
    "#### mode: Mode indicates the modality (major or minor) of a track, the type of scale from which its melodic content is derived. Major is represented by 1 and minor is 0.\n",
    "#### speechiness: Speechiness detects the presence of spoken words in a track.\n",
    "#### acousticness: A confidence measure from 0.0 to 1.0 of whether the track is acoustic.\n",
    "#### instrumentalness: Predicts whether a track contains no vocals.\n",
    "#### liveness: Detects the presence of an audience in the recording.\n",
    "#### valence: A measure from 0.0 to 1.0 describing the musical positiveness conveyed by a track. \n",
    "#### tempo: The overall estimated tempo of a track in beats per minute (BPM).\n",
    "#### type: The object type: “audio_features”\n",
    "#### uri: The Spotify URI for the track.\n",
    "#### track_href: A link to the Web API endpoint providing full details of the track.\n",
    "#### analysis_url: An HTTP URL to access the full audio analysis of this track.\n",
    "#### duration_ms_y: The track length in milliseconds\n",
    "#### time_signature: An estimated overall time signature of a track\n",
    "#### end_of_fade_in: Timestamp in seconds of end of the track fading in\n",
    "#### start_of_fade_out: Timestamp in seconds of start of the track fading out\n",
    "#### analysis_sample_rate: sample rate (how many times per second a sound is sampled) used in analysis\n",
    "#### "
   ],
   "cell_type": "markdown",
   "metadata": {}
  },
  {
   "source": [],
   "cell_type": "markdown",
   "metadata": {}
  },
  {
   "source": [
    "Because these songs were pulled from 7 different playlists, there could be a lot of overlap where 1 song is in 3 or 4 playlists and is in the dataframe 3 or 4 times. \n",
    "So our very first step will be to check for duplicates."
   ],
   "cell_type": "markdown",
   "metadata": {}
  },
  {
   "cell_type": "code",
   "execution_count": 60,
   "metadata": {},
   "outputs": [
    {
     "output_type": "execute_result",
     "data": {
      "text/plain": [
       "75                                         Lucky\n",
       "132                Body Back (feat. Maia Wright)\n",
       "133                                I Want It All\n",
       "134                                    I'll Wait\n",
       "135     Breathe - Dimitri Vangelis & Wyman Remix\n",
       "                          ...                   \n",
       "986                                     Hey Mami\n",
       "994                                         Stay\n",
       "1000                                       Intro\n",
       "1021                       Roses - Imanbek Remix\n",
       "1025                                       Dizzy\n",
       "Name: name, Length: 120, dtype: object"
      ]
     },
     "metadata": {},
     "execution_count": 60
    }
   ],
   "source": [
    "duplicate_df = df[df.duplicated(subset=['name'])]\n",
    "duplicate_df[\"name\"]"
   ]
  },
  {
   "cell_type": "code",
   "execution_count": 61,
   "metadata": {},
   "outputs": [
    {
     "output_type": "execute_result",
     "data": {
      "text/plain": [
       "                       name                      id  duration_ms_x  explicit  \\\n",
       "82    Roses - Imanbek Remix  24Yi9hE78yPEbZ4kxyoXAI         176840      True   \n",
       "209   Roses - Imanbek Remix  24Yi9hE78yPEbZ4kxyoXAI         176840      True   \n",
       "1021  Roses - Imanbek Remix  2Wo6QQD1KMDWeFkkjLqwx5         176218      True   \n",
       "\n",
       "      popularity  danceability  energy  key  loudness  mode  ...  \\\n",
       "82            90         0.770   0.724  8.0    -5.484   1.0  ...   \n",
       "209           90         0.770   0.724  8.0    -5.484   1.0  ...   \n",
       "1021          74         0.785   0.721  8.0    -5.457   1.0  ...   \n",
       "\n",
       "                type                                   uri  \\\n",
       "82    audio_features  spotify:track:24Yi9hE78yPEbZ4kxyoXAI   \n",
       "209   audio_features  spotify:track:24Yi9hE78yPEbZ4kxyoXAI   \n",
       "1021  audio_features  spotify:track:2Wo6QQD1KMDWeFkkjLqwx5   \n",
       "\n",
       "                                             track_href  \\\n",
       "82    https://api.spotify.com/v1/tracks/24Yi9hE78yPE...   \n",
       "209   https://api.spotify.com/v1/tracks/24Yi9hE78yPE...   \n",
       "1021  https://api.spotify.com/v1/tracks/2Wo6QQD1KMDW...   \n",
       "\n",
       "                                           analysis_url  duration_ms_y  \\\n",
       "82    https://api.spotify.com/v1/audio-analysis/24Yi...       176840.0   \n",
       "209   https://api.spotify.com/v1/audio-analysis/24Yi...       176840.0   \n",
       "1021  https://api.spotify.com/v1/audio-analysis/2Wo6...       176219.0   \n",
       "\n",
       "      time_signature end_of_fade_in start_of_fade_out analysis_sample_rate  \\\n",
       "82               4.0        1.03950         173.77814                22050   \n",
       "209              4.0        1.03950         173.77814                22050   \n",
       "1021             4.0        0.43542         173.17442                22050   \n",
       "\n",
       "     error  \n",
       "82     NaN  \n",
       "209    NaN  \n",
       "1021   NaN  \n",
       "\n",
       "[3 rows x 26 columns]"
      ],
      "text/html": "<div>\n<style scoped>\n    .dataframe tbody tr th:only-of-type {\n        vertical-align: middle;\n    }\n\n    .dataframe tbody tr th {\n        vertical-align: top;\n    }\n\n    .dataframe thead th {\n        text-align: right;\n    }\n</style>\n<table border=\"1\" class=\"dataframe\">\n  <thead>\n    <tr style=\"text-align: right;\">\n      <th></th>\n      <th>name</th>\n      <th>id</th>\n      <th>duration_ms_x</th>\n      <th>explicit</th>\n      <th>popularity</th>\n      <th>danceability</th>\n      <th>energy</th>\n      <th>key</th>\n      <th>loudness</th>\n      <th>mode</th>\n      <th>...</th>\n      <th>type</th>\n      <th>uri</th>\n      <th>track_href</th>\n      <th>analysis_url</th>\n      <th>duration_ms_y</th>\n      <th>time_signature</th>\n      <th>end_of_fade_in</th>\n      <th>start_of_fade_out</th>\n      <th>analysis_sample_rate</th>\n      <th>error</th>\n    </tr>\n  </thead>\n  <tbody>\n    <tr>\n      <th>82</th>\n      <td>Roses - Imanbek Remix</td>\n      <td>24Yi9hE78yPEbZ4kxyoXAI</td>\n      <td>176840</td>\n      <td>True</td>\n      <td>90</td>\n      <td>0.770</td>\n      <td>0.724</td>\n      <td>8.0</td>\n      <td>-5.484</td>\n      <td>1.0</td>\n      <td>...</td>\n      <td>audio_features</td>\n      <td>spotify:track:24Yi9hE78yPEbZ4kxyoXAI</td>\n      <td>https://api.spotify.com/v1/tracks/24Yi9hE78yPE...</td>\n      <td>https://api.spotify.com/v1/audio-analysis/24Yi...</td>\n      <td>176840.0</td>\n      <td>4.0</td>\n      <td>1.03950</td>\n      <td>173.77814</td>\n      <td>22050</td>\n      <td>NaN</td>\n    </tr>\n    <tr>\n      <th>209</th>\n      <td>Roses - Imanbek Remix</td>\n      <td>24Yi9hE78yPEbZ4kxyoXAI</td>\n      <td>176840</td>\n      <td>True</td>\n      <td>90</td>\n      <td>0.770</td>\n      <td>0.724</td>\n      <td>8.0</td>\n      <td>-5.484</td>\n      <td>1.0</td>\n      <td>...</td>\n      <td>audio_features</td>\n      <td>spotify:track:24Yi9hE78yPEbZ4kxyoXAI</td>\n      <td>https://api.spotify.com/v1/tracks/24Yi9hE78yPE...</td>\n      <td>https://api.spotify.com/v1/audio-analysis/24Yi...</td>\n      <td>176840.0</td>\n      <td>4.0</td>\n      <td>1.03950</td>\n      <td>173.77814</td>\n      <td>22050</td>\n      <td>NaN</td>\n    </tr>\n    <tr>\n      <th>1021</th>\n      <td>Roses - Imanbek Remix</td>\n      <td>2Wo6QQD1KMDWeFkkjLqwx5</td>\n      <td>176218</td>\n      <td>True</td>\n      <td>74</td>\n      <td>0.785</td>\n      <td>0.721</td>\n      <td>8.0</td>\n      <td>-5.457</td>\n      <td>1.0</td>\n      <td>...</td>\n      <td>audio_features</td>\n      <td>spotify:track:2Wo6QQD1KMDWeFkkjLqwx5</td>\n      <td>https://api.spotify.com/v1/tracks/2Wo6QQD1KMDW...</td>\n      <td>https://api.spotify.com/v1/audio-analysis/2Wo6...</td>\n      <td>176219.0</td>\n      <td>4.0</td>\n      <td>0.43542</td>\n      <td>173.17442</td>\n      <td>22050</td>\n      <td>NaN</td>\n    </tr>\n  </tbody>\n</table>\n<p>3 rows × 26 columns</p>\n</div>"
     },
     "metadata": {},
     "execution_count": 61
    }
   ],
   "source": [
    "df[df[\"name\"] == \"Roses - Imanbek Remix\"]"
   ]
  },
  {
   "source": [
    "The first and second are the exact same song duplicated. The second and third are the same song on different albumns. One is the single, the other is included on a full album, which is why they have different id's."
   ],
   "cell_type": "markdown",
   "metadata": {}
  },
  {
   "cell_type": "code",
   "execution_count": 62,
   "metadata": {},
   "outputs": [
    {
     "output_type": "execute_result",
     "data": {
      "text/plain": [
       "     name                      id  duration_ms_x  explicit  popularity  \\\n",
       "292  Stay  2ugjxfenU5AJMO5cozCuUv         194916     False          48   \n",
       "799  Stay  5Nd50WKhVieaCLWFJlcLT2         210857     False          30   \n",
       "994  Stay  3xmhECNTS8KZQ7C6ye7JIK         245326     False          46   \n",
       "\n",
       "     danceability  energy  key  loudness  mode  ...            type  \\\n",
       "292         0.685   0.951  3.0    -4.889   0.0  ...  audio_features   \n",
       "799         0.729   0.704  7.0    -7.690   1.0  ...  audio_features   \n",
       "994         0.231   0.465  6.0    -9.705   1.0  ...  audio_features   \n",
       "\n",
       "                                      uri  \\\n",
       "292  spotify:track:2ugjxfenU5AJMO5cozCuUv   \n",
       "799  spotify:track:5Nd50WKhVieaCLWFJlcLT2   \n",
       "994  spotify:track:3xmhECNTS8KZQ7C6ye7JIK   \n",
       "\n",
       "                                            track_href  \\\n",
       "292  https://api.spotify.com/v1/tracks/2ugjxfenU5AJ...   \n",
       "799  https://api.spotify.com/v1/tracks/5Nd50WKhViea...   \n",
       "994  https://api.spotify.com/v1/tracks/3xmhECNTS8KZ...   \n",
       "\n",
       "                                          analysis_url  duration_ms_y  \\\n",
       "292  https://api.spotify.com/v1/audio-analysis/2ugj...       194916.0   \n",
       "799  https://api.spotify.com/v1/audio-analysis/5Nd5...       210857.0   \n",
       "994  https://api.spotify.com/v1/audio-analysis/3xmh...       245327.0   \n",
       "\n",
       "     time_signature end_of_fade_in start_of_fade_out analysis_sample_rate  \\\n",
       "292             4.0        0.00000         191.72136                22050   \n",
       "799             4.0        0.00000         199.12273                22050   \n",
       "994             4.0        0.26685         236.59973                22050   \n",
       "\n",
       "    error  \n",
       "292   NaN  \n",
       "799   NaN  \n",
       "994   NaN  \n",
       "\n",
       "[3 rows x 26 columns]"
      ],
      "text/html": "<div>\n<style scoped>\n    .dataframe tbody tr th:only-of-type {\n        vertical-align: middle;\n    }\n\n    .dataframe tbody tr th {\n        vertical-align: top;\n    }\n\n    .dataframe thead th {\n        text-align: right;\n    }\n</style>\n<table border=\"1\" class=\"dataframe\">\n  <thead>\n    <tr style=\"text-align: right;\">\n      <th></th>\n      <th>name</th>\n      <th>id</th>\n      <th>duration_ms_x</th>\n      <th>explicit</th>\n      <th>popularity</th>\n      <th>danceability</th>\n      <th>energy</th>\n      <th>key</th>\n      <th>loudness</th>\n      <th>mode</th>\n      <th>...</th>\n      <th>type</th>\n      <th>uri</th>\n      <th>track_href</th>\n      <th>analysis_url</th>\n      <th>duration_ms_y</th>\n      <th>time_signature</th>\n      <th>end_of_fade_in</th>\n      <th>start_of_fade_out</th>\n      <th>analysis_sample_rate</th>\n      <th>error</th>\n    </tr>\n  </thead>\n  <tbody>\n    <tr>\n      <th>292</th>\n      <td>Stay</td>\n      <td>2ugjxfenU5AJMO5cozCuUv</td>\n      <td>194916</td>\n      <td>False</td>\n      <td>48</td>\n      <td>0.685</td>\n      <td>0.951</td>\n      <td>3.0</td>\n      <td>-4.889</td>\n      <td>0.0</td>\n      <td>...</td>\n      <td>audio_features</td>\n      <td>spotify:track:2ugjxfenU5AJMO5cozCuUv</td>\n      <td>https://api.spotify.com/v1/tracks/2ugjxfenU5AJ...</td>\n      <td>https://api.spotify.com/v1/audio-analysis/2ugj...</td>\n      <td>194916.0</td>\n      <td>4.0</td>\n      <td>0.00000</td>\n      <td>191.72136</td>\n      <td>22050</td>\n      <td>NaN</td>\n    </tr>\n    <tr>\n      <th>799</th>\n      <td>Stay</td>\n      <td>5Nd50WKhVieaCLWFJlcLT2</td>\n      <td>210857</td>\n      <td>False</td>\n      <td>30</td>\n      <td>0.729</td>\n      <td>0.704</td>\n      <td>7.0</td>\n      <td>-7.690</td>\n      <td>1.0</td>\n      <td>...</td>\n      <td>audio_features</td>\n      <td>spotify:track:5Nd50WKhVieaCLWFJlcLT2</td>\n      <td>https://api.spotify.com/v1/tracks/5Nd50WKhViea...</td>\n      <td>https://api.spotify.com/v1/audio-analysis/5Nd5...</td>\n      <td>210857.0</td>\n      <td>4.0</td>\n      <td>0.00000</td>\n      <td>199.12273</td>\n      <td>22050</td>\n      <td>NaN</td>\n    </tr>\n    <tr>\n      <th>994</th>\n      <td>Stay</td>\n      <td>3xmhECNTS8KZQ7C6ye7JIK</td>\n      <td>245326</td>\n      <td>False</td>\n      <td>46</td>\n      <td>0.231</td>\n      <td>0.465</td>\n      <td>6.0</td>\n      <td>-9.705</td>\n      <td>1.0</td>\n      <td>...</td>\n      <td>audio_features</td>\n      <td>spotify:track:3xmhECNTS8KZQ7C6ye7JIK</td>\n      <td>https://api.spotify.com/v1/tracks/3xmhECNTS8KZ...</td>\n      <td>https://api.spotify.com/v1/audio-analysis/3xmh...</td>\n      <td>245327.0</td>\n      <td>4.0</td>\n      <td>0.26685</td>\n      <td>236.59973</td>\n      <td>22050</td>\n      <td>NaN</td>\n    </tr>\n  </tbody>\n</table>\n<p>3 rows × 26 columns</p>\n</div>"
     },
     "metadata": {},
     "execution_count": 62
    }
   ],
   "source": [
    "df[df[\"name\"] == \"Stay\"]"
   ]
  },
  {
   "source": [
    "These songs all have the same name but different ids so we might accidentally delete different songs if we filter duplicates based on name."
   ],
   "cell_type": "markdown",
   "metadata": {}
  },
  {
   "cell_type": "code",
   "execution_count": 63,
   "metadata": {},
   "outputs": [
    {
     "output_type": "execute_result",
     "data": {
      "text/plain": [
       "False    918\n",
       "True     120\n",
       "dtype: int64"
      ]
     },
     "metadata": {},
     "execution_count": 63
    }
   ],
   "source": [
    "df.duplicated(subset=[\"name\"]).value_counts()"
   ]
  },
  {
   "cell_type": "code",
   "execution_count": 64,
   "metadata": {},
   "outputs": [
    {
     "output_type": "execute_result",
     "data": {
      "text/plain": [
       "False    944\n",
       "True      94\n",
       "dtype: int64"
      ]
     },
     "metadata": {},
     "execution_count": 64
    }
   ],
   "source": [
    "df.duplicated(subset=[\"id\"]).value_counts()"
   ]
  },
  {
   "source": [
    "To air on the side of caution, we'll only delete duplicate ids since the remaining 26 songs with  duplicate names may or not be repeats."
   ],
   "cell_type": "markdown",
   "metadata": {}
  },
  {
   "cell_type": "code",
   "execution_count": 65,
   "metadata": {},
   "outputs": [],
   "source": [
    "df = df.drop_duplicates(subset=['id'])"
   ]
  },
  {
   "cell_type": "code",
   "execution_count": 66,
   "metadata": {},
   "outputs": [
    {
     "output_type": "execute_result",
     "data": {
      "text/plain": [
       "0"
      ]
     },
     "metadata": {},
     "execution_count": 66
    }
   ],
   "source": [
    "sum(df.duplicated(subset = [\"id\"]))"
   ]
  },
  {
   "source": [
    "Now that we have removed most duplicates, we can begin analyzing the data."
   ],
   "cell_type": "markdown",
   "metadata": {}
  },
  {
   "cell_type": "code",
   "execution_count": 67,
   "metadata": {},
   "outputs": [
    {
     "output_type": "execute_result",
     "data": {
      "text/plain": [
       "       duration_ms_x  popularity  danceability      energy         key  \\\n",
       "count     944.000000  944.000000    944.000000  944.000000  944.000000   \n",
       "mean   219760.225636   43.483051      0.622121    0.765781    5.500000   \n",
       "std     56768.281313   21.897276      0.121056    0.148381    3.636156   \n",
       "min     61022.000000    0.000000      0.184000    0.114000    0.000000   \n",
       "25%    181003.000000   32.000000      0.544000    0.684750    2.000000   \n",
       "50%    207048.500000   48.000000      0.629000    0.794000    6.000000   \n",
       "75%    243543.250000   59.000000      0.706000    0.878000    9.000000   \n",
       "max    463226.000000   90.000000      0.946000    0.999000   11.000000   \n",
       "\n",
       "         loudness        mode  speechiness  acousticness  instrumentalness  \\\n",
       "count  944.000000  944.000000   944.000000    944.000000        944.000000   \n",
       "mean    -5.643966    0.485169     0.075997      0.109521          0.155554   \n",
       "std      2.284321    0.500045     0.072305      0.169090          0.285037   \n",
       "min    -20.792000    0.000000     0.025700      0.000023          0.000000   \n",
       "25%     -6.841250    0.000000     0.039575      0.005755          0.000004   \n",
       "50%     -5.318500    0.000000     0.051100      0.031850          0.001465   \n",
       "75%     -3.995500    1.000000     0.079225      0.148000          0.134000   \n",
       "max     -0.570000    1.000000     0.869000      0.967000          0.972000   \n",
       "\n",
       "         liveness     valence       tempo  duration_ms_y  time_signature  \\\n",
       "count  944.000000  944.000000  944.000000     944.000000      944.000000   \n",
       "mean     0.206735    0.366817  124.178453  219760.127119        3.991525   \n",
       "std      0.165790    0.205753   16.544259   56766.683397        0.172106   \n",
       "min      0.022200    0.031600   55.803000   61022.000000        1.000000   \n",
       "25%      0.095050    0.195000  120.041500  181003.000000        4.000000   \n",
       "50%      0.139000    0.351000  126.037000  207049.500000        4.000000   \n",
       "75%      0.283500    0.510250  128.029000  243543.250000        4.000000   \n",
       "max      0.956000    0.977000  212.137000  463227.000000        5.000000   \n",
       "\n",
       "       end_of_fade_in  start_of_fade_out  analysis_sample_rate  error  \n",
       "count      944.000000         944.000000                 944.0    0.0  \n",
       "mean         0.689903         212.496943               22050.0    NaN  \n",
       "std          1.467243          55.897983                   0.0    NaN  \n",
       "min          0.000000          61.022040               22050.0    NaN  \n",
       "25%          0.000000         174.725813               22050.0    NaN  \n",
       "50%          0.064305         199.793195               22050.0    NaN  \n",
       "75%          0.353948         235.582395               22050.0    NaN  \n",
       "max         10.385120         450.501950               22050.0    NaN  "
      ],
      "text/html": "<div>\n<style scoped>\n    .dataframe tbody tr th:only-of-type {\n        vertical-align: middle;\n    }\n\n    .dataframe tbody tr th {\n        vertical-align: top;\n    }\n\n    .dataframe thead th {\n        text-align: right;\n    }\n</style>\n<table border=\"1\" class=\"dataframe\">\n  <thead>\n    <tr style=\"text-align: right;\">\n      <th></th>\n      <th>duration_ms_x</th>\n      <th>popularity</th>\n      <th>danceability</th>\n      <th>energy</th>\n      <th>key</th>\n      <th>loudness</th>\n      <th>mode</th>\n      <th>speechiness</th>\n      <th>acousticness</th>\n      <th>instrumentalness</th>\n      <th>liveness</th>\n      <th>valence</th>\n      <th>tempo</th>\n      <th>duration_ms_y</th>\n      <th>time_signature</th>\n      <th>end_of_fade_in</th>\n      <th>start_of_fade_out</th>\n      <th>analysis_sample_rate</th>\n      <th>error</th>\n    </tr>\n  </thead>\n  <tbody>\n    <tr>\n      <th>count</th>\n      <td>944.000000</td>\n      <td>944.000000</td>\n      <td>944.000000</td>\n      <td>944.000000</td>\n      <td>944.000000</td>\n      <td>944.000000</td>\n      <td>944.000000</td>\n      <td>944.000000</td>\n      <td>944.000000</td>\n      <td>944.000000</td>\n      <td>944.000000</td>\n      <td>944.000000</td>\n      <td>944.000000</td>\n      <td>944.000000</td>\n      <td>944.000000</td>\n      <td>944.000000</td>\n      <td>944.000000</td>\n      <td>944.0</td>\n      <td>0.0</td>\n    </tr>\n    <tr>\n      <th>mean</th>\n      <td>219760.225636</td>\n      <td>43.483051</td>\n      <td>0.622121</td>\n      <td>0.765781</td>\n      <td>5.500000</td>\n      <td>-5.643966</td>\n      <td>0.485169</td>\n      <td>0.075997</td>\n      <td>0.109521</td>\n      <td>0.155554</td>\n      <td>0.206735</td>\n      <td>0.366817</td>\n      <td>124.178453</td>\n      <td>219760.127119</td>\n      <td>3.991525</td>\n      <td>0.689903</td>\n      <td>212.496943</td>\n      <td>22050.0</td>\n      <td>NaN</td>\n    </tr>\n    <tr>\n      <th>std</th>\n      <td>56768.281313</td>\n      <td>21.897276</td>\n      <td>0.121056</td>\n      <td>0.148381</td>\n      <td>3.636156</td>\n      <td>2.284321</td>\n      <td>0.500045</td>\n      <td>0.072305</td>\n      <td>0.169090</td>\n      <td>0.285037</td>\n      <td>0.165790</td>\n      <td>0.205753</td>\n      <td>16.544259</td>\n      <td>56766.683397</td>\n      <td>0.172106</td>\n      <td>1.467243</td>\n      <td>55.897983</td>\n      <td>0.0</td>\n      <td>NaN</td>\n    </tr>\n    <tr>\n      <th>min</th>\n      <td>61022.000000</td>\n      <td>0.000000</td>\n      <td>0.184000</td>\n      <td>0.114000</td>\n      <td>0.000000</td>\n      <td>-20.792000</td>\n      <td>0.000000</td>\n      <td>0.025700</td>\n      <td>0.000023</td>\n      <td>0.000000</td>\n      <td>0.022200</td>\n      <td>0.031600</td>\n      <td>55.803000</td>\n      <td>61022.000000</td>\n      <td>1.000000</td>\n      <td>0.000000</td>\n      <td>61.022040</td>\n      <td>22050.0</td>\n      <td>NaN</td>\n    </tr>\n    <tr>\n      <th>25%</th>\n      <td>181003.000000</td>\n      <td>32.000000</td>\n      <td>0.544000</td>\n      <td>0.684750</td>\n      <td>2.000000</td>\n      <td>-6.841250</td>\n      <td>0.000000</td>\n      <td>0.039575</td>\n      <td>0.005755</td>\n      <td>0.000004</td>\n      <td>0.095050</td>\n      <td>0.195000</td>\n      <td>120.041500</td>\n      <td>181003.000000</td>\n      <td>4.000000</td>\n      <td>0.000000</td>\n      <td>174.725813</td>\n      <td>22050.0</td>\n      <td>NaN</td>\n    </tr>\n    <tr>\n      <th>50%</th>\n      <td>207048.500000</td>\n      <td>48.000000</td>\n      <td>0.629000</td>\n      <td>0.794000</td>\n      <td>6.000000</td>\n      <td>-5.318500</td>\n      <td>0.000000</td>\n      <td>0.051100</td>\n      <td>0.031850</td>\n      <td>0.001465</td>\n      <td>0.139000</td>\n      <td>0.351000</td>\n      <td>126.037000</td>\n      <td>207049.500000</td>\n      <td>4.000000</td>\n      <td>0.064305</td>\n      <td>199.793195</td>\n      <td>22050.0</td>\n      <td>NaN</td>\n    </tr>\n    <tr>\n      <th>75%</th>\n      <td>243543.250000</td>\n      <td>59.000000</td>\n      <td>0.706000</td>\n      <td>0.878000</td>\n      <td>9.000000</td>\n      <td>-3.995500</td>\n      <td>1.000000</td>\n      <td>0.079225</td>\n      <td>0.148000</td>\n      <td>0.134000</td>\n      <td>0.283500</td>\n      <td>0.510250</td>\n      <td>128.029000</td>\n      <td>243543.250000</td>\n      <td>4.000000</td>\n      <td>0.353948</td>\n      <td>235.582395</td>\n      <td>22050.0</td>\n      <td>NaN</td>\n    </tr>\n    <tr>\n      <th>max</th>\n      <td>463226.000000</td>\n      <td>90.000000</td>\n      <td>0.946000</td>\n      <td>0.999000</td>\n      <td>11.000000</td>\n      <td>-0.570000</td>\n      <td>1.000000</td>\n      <td>0.869000</td>\n      <td>0.967000</td>\n      <td>0.972000</td>\n      <td>0.956000</td>\n      <td>0.977000</td>\n      <td>212.137000</td>\n      <td>463227.000000</td>\n      <td>5.000000</td>\n      <td>10.385120</td>\n      <td>450.501950</td>\n      <td>22050.0</td>\n      <td>NaN</td>\n    </tr>\n  </tbody>\n</table>\n</div>"
     },
     "metadata": {},
     "execution_count": 67
    }
   ],
   "source": [
    "df.describe()"
   ]
  },
  {
   "source": [
    "There are two different duration columns so we need to determine if there's a difference between them (x and y)\n",
    "x is of type int while y is floating type"
   ],
   "cell_type": "markdown",
   "metadata": {}
  },
  {
   "cell_type": "code",
   "execution_count": 68,
   "metadata": {},
   "outputs": [
    {
     "output_type": "execute_result",
     "data": {
      "text/plain": [
       "   duration_ms_x  duration_ms_y\n",
       "0         167903       167903.0\n",
       "1         208156       208156.0\n",
       "2         238458       238459.0\n",
       "3         181935       181935.0\n",
       "4         182115       182116.0"
      ],
      "text/html": "<div>\n<style scoped>\n    .dataframe tbody tr th:only-of-type {\n        vertical-align: middle;\n    }\n\n    .dataframe tbody tr th {\n        vertical-align: top;\n    }\n\n    .dataframe thead th {\n        text-align: right;\n    }\n</style>\n<table border=\"1\" class=\"dataframe\">\n  <thead>\n    <tr style=\"text-align: right;\">\n      <th></th>\n      <th>duration_ms_x</th>\n      <th>duration_ms_y</th>\n    </tr>\n  </thead>\n  <tbody>\n    <tr>\n      <th>0</th>\n      <td>167903</td>\n      <td>167903.0</td>\n    </tr>\n    <tr>\n      <th>1</th>\n      <td>208156</td>\n      <td>208156.0</td>\n    </tr>\n    <tr>\n      <th>2</th>\n      <td>238458</td>\n      <td>238459.0</td>\n    </tr>\n    <tr>\n      <th>3</th>\n      <td>181935</td>\n      <td>181935.0</td>\n    </tr>\n    <tr>\n      <th>4</th>\n      <td>182115</td>\n      <td>182116.0</td>\n    </tr>\n  </tbody>\n</table>\n</div>"
     },
     "metadata": {},
     "execution_count": 68
    }
   ],
   "source": [
    "df[[\"duration_ms_x\", \"duration_ms_y\"]].head()"
   ]
  },
  {
   "cell_type": "code",
   "execution_count": 69,
   "metadata": {},
   "outputs": [],
   "source": [
    "def is_whole(n):\n",
    "    return n % 1 == 0"
   ]
  },
  {
   "cell_type": "code",
   "execution_count": 70,
   "metadata": {},
   "outputs": [
    {
     "output_type": "execute_result",
     "data": {
      "text/plain": [
       "0       True\n",
       "1       True\n",
       "2       True\n",
       "3       True\n",
       "4       True\n",
       "        ... \n",
       "1033    True\n",
       "1034    True\n",
       "1035    True\n",
       "1036    True\n",
       "1037    True\n",
       "Name: duration_ms_y, Length: 944, dtype: bool"
      ]
     },
     "metadata": {},
     "execution_count": 70
    }
   ],
   "source": [
    "df[\"duration_ms_y\"].apply(is_whole)"
   ]
  },
  {
   "cell_type": "code",
   "execution_count": 71,
   "metadata": {},
   "outputs": [
    {
     "output_type": "execute_result",
     "data": {
      "text/plain": [
       "944"
      ]
     },
     "metadata": {},
     "execution_count": 71
    }
   ],
   "source": [
    "sum(df[\"duration_ms_y\"].apply(is_whole))"
   ]
  },
  {
   "source": [
    "All the durations are whole numbers so we can use the integer version and drop the float version"
   ],
   "cell_type": "markdown",
   "metadata": {}
  },
  {
   "cell_type": "code",
   "execution_count": 72,
   "metadata": {},
   "outputs": [],
   "source": [
    "df = df.drop([\"duration_ms_y\"], axis = 1)"
   ]
  },
  {
   "cell_type": "code",
   "execution_count": 73,
   "metadata": {},
   "outputs": [
    {
     "output_type": "execute_result",
     "data": {
      "text/plain": [
       "Index(['name', 'id', 'duration_ms_x', 'explicit', 'popularity', 'danceability',\n",
       "       'energy', 'key', 'loudness', 'mode', 'speechiness', 'acousticness',\n",
       "       'instrumentalness', 'liveness', 'valence', 'tempo', 'type', 'uri',\n",
       "       'track_href', 'analysis_url', 'time_signature', 'end_of_fade_in',\n",
       "       'start_of_fade_out', 'analysis_sample_rate', 'error'],\n",
       "      dtype='object')"
      ]
     },
     "metadata": {},
     "execution_count": 73
    }
   ],
   "source": [
    "df.columns"
   ]
  },
  {
   "source": [
    "Change now rename duration_ms_x to just duration_ms"
   ],
   "cell_type": "markdown",
   "metadata": {}
  },
  {
   "cell_type": "code",
   "execution_count": 74,
   "metadata": {},
   "outputs": [],
   "source": [
    "df = df.rename(columns={\"duration_ms_x\": \"duration_ms\"})"
   ]
  },
  {
   "cell_type": "code",
   "execution_count": 75,
   "metadata": {},
   "outputs": [
    {
     "output_type": "execute_result",
     "data": {
      "text/plain": [
       "                              name                      id  duration_ms  \\\n",
       "0  Paradise (feat. Dermot Kennedy)  6ft4hAq6yde8jPZY2i5zLr       167903   \n",
       "\n",
       "   explicit  popularity  danceability  energy  key  loudness  mode  ...  \\\n",
       "0     False          90         0.632   0.595  8.0    -7.644   0.0  ...   \n",
       "\n",
       "     tempo            type                                   uri  \\\n",
       "0  124.114  audio_features  spotify:track:6ft4hAq6yde8jPZY2i5zLr   \n",
       "\n",
       "                                          track_href  \\\n",
       "0  https://api.spotify.com/v1/tracks/6ft4hAq6yde8...   \n",
       "\n",
       "                                        analysis_url  time_signature  \\\n",
       "0  https://api.spotify.com/v1/audio-analysis/6ft4...             4.0   \n",
       "\n",
       "  end_of_fade_in start_of_fade_out analysis_sample_rate error  \n",
       "0            0.0         164.94295                22050   NaN  \n",
       "\n",
       "[1 rows x 25 columns]"
      ],
      "text/html": "<div>\n<style scoped>\n    .dataframe tbody tr th:only-of-type {\n        vertical-align: middle;\n    }\n\n    .dataframe tbody tr th {\n        vertical-align: top;\n    }\n\n    .dataframe thead th {\n        text-align: right;\n    }\n</style>\n<table border=\"1\" class=\"dataframe\">\n  <thead>\n    <tr style=\"text-align: right;\">\n      <th></th>\n      <th>name</th>\n      <th>id</th>\n      <th>duration_ms</th>\n      <th>explicit</th>\n      <th>popularity</th>\n      <th>danceability</th>\n      <th>energy</th>\n      <th>key</th>\n      <th>loudness</th>\n      <th>mode</th>\n      <th>...</th>\n      <th>tempo</th>\n      <th>type</th>\n      <th>uri</th>\n      <th>track_href</th>\n      <th>analysis_url</th>\n      <th>time_signature</th>\n      <th>end_of_fade_in</th>\n      <th>start_of_fade_out</th>\n      <th>analysis_sample_rate</th>\n      <th>error</th>\n    </tr>\n  </thead>\n  <tbody>\n    <tr>\n      <th>0</th>\n      <td>Paradise (feat. Dermot Kennedy)</td>\n      <td>6ft4hAq6yde8jPZY2i5zLr</td>\n      <td>167903</td>\n      <td>False</td>\n      <td>90</td>\n      <td>0.632</td>\n      <td>0.595</td>\n      <td>8.0</td>\n      <td>-7.644</td>\n      <td>0.0</td>\n      <td>...</td>\n      <td>124.114</td>\n      <td>audio_features</td>\n      <td>spotify:track:6ft4hAq6yde8jPZY2i5zLr</td>\n      <td>https://api.spotify.com/v1/tracks/6ft4hAq6yde8...</td>\n      <td>https://api.spotify.com/v1/audio-analysis/6ft4...</td>\n      <td>4.0</td>\n      <td>0.0</td>\n      <td>164.94295</td>\n      <td>22050</td>\n      <td>NaN</td>\n    </tr>\n  </tbody>\n</table>\n<p>1 rows × 25 columns</p>\n</div>"
     },
     "metadata": {},
     "execution_count": 75
    }
   ],
   "source": [
    "df.head(1)"
   ]
  },
  {
   "source": [
    "Next, we can look at the error column"
   ],
   "cell_type": "markdown",
   "metadata": {}
  },
  {
   "cell_type": "code",
   "execution_count": 76,
   "metadata": {},
   "outputs": [
    {
     "output_type": "execute_result",
     "data": {
      "text/plain": [
       "0      NaN\n",
       "1      NaN\n",
       "2      NaN\n",
       "3      NaN\n",
       "4      NaN\n",
       "        ..\n",
       "1033   NaN\n",
       "1034   NaN\n",
       "1035   NaN\n",
       "1036   NaN\n",
       "1037   NaN\n",
       "Name: error, Length: 944, dtype: float64"
      ]
     },
     "metadata": {},
     "execution_count": 76
    }
   ],
   "source": [
    "df[\"error\"]"
   ]
  },
  {
   "cell_type": "code",
   "execution_count": 77,
   "metadata": {},
   "outputs": [
    {
     "output_type": "execute_result",
     "data": {
      "text/plain": [
       "944"
      ]
     },
     "metadata": {},
     "execution_count": 77
    }
   ],
   "source": [
    "sum(pd.isna(df[\"error\"])) #can sum up booleans where True = 1 and False = 0"
   ]
  },
  {
   "source": [
    "Since our sum is 1038 (the length of the dataframe) we know every row has a True value and therfore every row has a NaN value for error. Since every row has nothing in the error column, we can drop it as well"
   ],
   "cell_type": "markdown",
   "metadata": {}
  },
  {
   "cell_type": "code",
   "execution_count": 78,
   "metadata": {},
   "outputs": [],
   "source": [
    "df = df.drop([\"error\"], axis = 1)"
   ]
  },
  {
   "cell_type": "code",
   "execution_count": 79,
   "metadata": {},
   "outputs": [
    {
     "output_type": "execute_result",
     "data": {
      "text/plain": [
       "                              name                      id  duration_ms  \\\n",
       "0  Paradise (feat. Dermot Kennedy)  6ft4hAq6yde8jPZY2i5zLr       167903   \n",
       "\n",
       "   explicit  popularity  danceability  energy  key  loudness  mode  ...  \\\n",
       "0     False          90         0.632   0.595  8.0    -7.644   0.0  ...   \n",
       "\n",
       "   valence    tempo            type                                   uri  \\\n",
       "0    0.435  124.114  audio_features  spotify:track:6ft4hAq6yde8jPZY2i5zLr   \n",
       "\n",
       "                                          track_href  \\\n",
       "0  https://api.spotify.com/v1/tracks/6ft4hAq6yde8...   \n",
       "\n",
       "                                        analysis_url time_signature  \\\n",
       "0  https://api.spotify.com/v1/audio-analysis/6ft4...            4.0   \n",
       "\n",
       "  end_of_fade_in start_of_fade_out analysis_sample_rate  \n",
       "0            0.0         164.94295                22050  \n",
       "\n",
       "[1 rows x 24 columns]"
      ],
      "text/html": "<div>\n<style scoped>\n    .dataframe tbody tr th:only-of-type {\n        vertical-align: middle;\n    }\n\n    .dataframe tbody tr th {\n        vertical-align: top;\n    }\n\n    .dataframe thead th {\n        text-align: right;\n    }\n</style>\n<table border=\"1\" class=\"dataframe\">\n  <thead>\n    <tr style=\"text-align: right;\">\n      <th></th>\n      <th>name</th>\n      <th>id</th>\n      <th>duration_ms</th>\n      <th>explicit</th>\n      <th>popularity</th>\n      <th>danceability</th>\n      <th>energy</th>\n      <th>key</th>\n      <th>loudness</th>\n      <th>mode</th>\n      <th>...</th>\n      <th>valence</th>\n      <th>tempo</th>\n      <th>type</th>\n      <th>uri</th>\n      <th>track_href</th>\n      <th>analysis_url</th>\n      <th>time_signature</th>\n      <th>end_of_fade_in</th>\n      <th>start_of_fade_out</th>\n      <th>analysis_sample_rate</th>\n    </tr>\n  </thead>\n  <tbody>\n    <tr>\n      <th>0</th>\n      <td>Paradise (feat. Dermot Kennedy)</td>\n      <td>6ft4hAq6yde8jPZY2i5zLr</td>\n      <td>167903</td>\n      <td>False</td>\n      <td>90</td>\n      <td>0.632</td>\n      <td>0.595</td>\n      <td>8.0</td>\n      <td>-7.644</td>\n      <td>0.0</td>\n      <td>...</td>\n      <td>0.435</td>\n      <td>124.114</td>\n      <td>audio_features</td>\n      <td>spotify:track:6ft4hAq6yde8jPZY2i5zLr</td>\n      <td>https://api.spotify.com/v1/tracks/6ft4hAq6yde8...</td>\n      <td>https://api.spotify.com/v1/audio-analysis/6ft4...</td>\n      <td>4.0</td>\n      <td>0.0</td>\n      <td>164.94295</td>\n      <td>22050</td>\n    </tr>\n  </tbody>\n</table>\n<p>1 rows × 24 columns</p>\n</div>"
     },
     "metadata": {},
     "execution_count": 79
    }
   ],
   "source": [
    "df.head(1)"
   ]
  },
  {
   "source": [
    "Now let's look at analysis sample rate"
   ],
   "cell_type": "markdown",
   "metadata": {}
  },
  {
   "cell_type": "code",
   "execution_count": 80,
   "metadata": {},
   "outputs": [
    {
     "output_type": "execute_result",
     "data": {
      "text/plain": [
       "0       22050\n",
       "1       22050\n",
       "2       22050\n",
       "3       22050\n",
       "4       22050\n",
       "        ...  \n",
       "1033    22050\n",
       "1034    22050\n",
       "1035    22050\n",
       "1036    22050\n",
       "1037    22050\n",
       "Name: analysis_sample_rate, Length: 944, dtype: int64"
      ]
     },
     "metadata": {},
     "execution_count": 80
    }
   ],
   "source": [
    "df[\"analysis_sample_rate\"]"
   ]
  },
  {
   "source": [
    "It seems to be the same for every row but let's check to make sure"
   ],
   "cell_type": "markdown",
   "metadata": {}
  },
  {
   "cell_type": "code",
   "execution_count": 81,
   "metadata": {},
   "outputs": [
    {
     "output_type": "execute_result",
     "data": {
      "text/plain": [
       "Empty DataFrame\n",
       "Columns: [name, id, duration_ms, explicit, popularity, danceability, energy, key, loudness, mode, speechiness, acousticness, instrumentalness, liveness, valence, tempo, type, uri, track_href, analysis_url, time_signature, end_of_fade_in, start_of_fade_out, analysis_sample_rate]\n",
       "Index: []\n",
       "\n",
       "[0 rows x 24 columns]"
      ],
      "text/html": "<div>\n<style scoped>\n    .dataframe tbody tr th:only-of-type {\n        vertical-align: middle;\n    }\n\n    .dataframe tbody tr th {\n        vertical-align: top;\n    }\n\n    .dataframe thead th {\n        text-align: right;\n    }\n</style>\n<table border=\"1\" class=\"dataframe\">\n  <thead>\n    <tr style=\"text-align: right;\">\n      <th></th>\n      <th>name</th>\n      <th>id</th>\n      <th>duration_ms</th>\n      <th>explicit</th>\n      <th>popularity</th>\n      <th>danceability</th>\n      <th>energy</th>\n      <th>key</th>\n      <th>loudness</th>\n      <th>mode</th>\n      <th>...</th>\n      <th>valence</th>\n      <th>tempo</th>\n      <th>type</th>\n      <th>uri</th>\n      <th>track_href</th>\n      <th>analysis_url</th>\n      <th>time_signature</th>\n      <th>end_of_fade_in</th>\n      <th>start_of_fade_out</th>\n      <th>analysis_sample_rate</th>\n    </tr>\n  </thead>\n  <tbody>\n  </tbody>\n</table>\n<p>0 rows × 24 columns</p>\n</div>"
     },
     "metadata": {},
     "execution_count": 81
    }
   ],
   "source": [
    "df[df[\"analysis_sample_rate\"] != 22050]"
   ]
  },
  {
   "source": [
    "Every row has the same sample rate so this feature won't be any help to us and we can drop it"
   ],
   "cell_type": "markdown",
   "metadata": {}
  },
  {
   "cell_type": "code",
   "execution_count": 82,
   "metadata": {},
   "outputs": [],
   "source": [
    "df = df.drop([\"analysis_sample_rate\"], axis = 1)"
   ]
  },
  {
   "cell_type": "code",
   "execution_count": 83,
   "metadata": {},
   "outputs": [
    {
     "output_type": "execute_result",
     "data": {
      "text/plain": [
       "                              name                      id  duration_ms  \\\n",
       "0  Paradise (feat. Dermot Kennedy)  6ft4hAq6yde8jPZY2i5zLr       167903   \n",
       "\n",
       "   explicit  popularity  danceability  energy  key  loudness  mode  ...  \\\n",
       "0     False          90         0.632   0.595  8.0    -7.644   0.0  ...   \n",
       "\n",
       "   liveness  valence    tempo            type  \\\n",
       "0     0.209    0.435  124.114  audio_features   \n",
       "\n",
       "                                    uri  \\\n",
       "0  spotify:track:6ft4hAq6yde8jPZY2i5zLr   \n",
       "\n",
       "                                          track_href  \\\n",
       "0  https://api.spotify.com/v1/tracks/6ft4hAq6yde8...   \n",
       "\n",
       "                                        analysis_url time_signature  \\\n",
       "0  https://api.spotify.com/v1/audio-analysis/6ft4...            4.0   \n",
       "\n",
       "  end_of_fade_in start_of_fade_out  \n",
       "0            0.0         164.94295  \n",
       "\n",
       "[1 rows x 23 columns]"
      ],
      "text/html": "<div>\n<style scoped>\n    .dataframe tbody tr th:only-of-type {\n        vertical-align: middle;\n    }\n\n    .dataframe tbody tr th {\n        vertical-align: top;\n    }\n\n    .dataframe thead th {\n        text-align: right;\n    }\n</style>\n<table border=\"1\" class=\"dataframe\">\n  <thead>\n    <tr style=\"text-align: right;\">\n      <th></th>\n      <th>name</th>\n      <th>id</th>\n      <th>duration_ms</th>\n      <th>explicit</th>\n      <th>popularity</th>\n      <th>danceability</th>\n      <th>energy</th>\n      <th>key</th>\n      <th>loudness</th>\n      <th>mode</th>\n      <th>...</th>\n      <th>liveness</th>\n      <th>valence</th>\n      <th>tempo</th>\n      <th>type</th>\n      <th>uri</th>\n      <th>track_href</th>\n      <th>analysis_url</th>\n      <th>time_signature</th>\n      <th>end_of_fade_in</th>\n      <th>start_of_fade_out</th>\n    </tr>\n  </thead>\n  <tbody>\n    <tr>\n      <th>0</th>\n      <td>Paradise (feat. Dermot Kennedy)</td>\n      <td>6ft4hAq6yde8jPZY2i5zLr</td>\n      <td>167903</td>\n      <td>False</td>\n      <td>90</td>\n      <td>0.632</td>\n      <td>0.595</td>\n      <td>8.0</td>\n      <td>-7.644</td>\n      <td>0.0</td>\n      <td>...</td>\n      <td>0.209</td>\n      <td>0.435</td>\n      <td>124.114</td>\n      <td>audio_features</td>\n      <td>spotify:track:6ft4hAq6yde8jPZY2i5zLr</td>\n      <td>https://api.spotify.com/v1/tracks/6ft4hAq6yde8...</td>\n      <td>https://api.spotify.com/v1/audio-analysis/6ft4...</td>\n      <td>4.0</td>\n      <td>0.0</td>\n      <td>164.94295</td>\n    </tr>\n  </tbody>\n</table>\n<p>1 rows × 23 columns</p>\n</div>"
     },
     "metadata": {},
     "execution_count": 83
    }
   ],
   "source": [
    "df.head(1)"
   ]
  },
  {
   "cell_type": "code",
   "execution_count": 84,
   "metadata": {},
   "outputs": [
    {
     "output_type": "execute_result",
     "data": {
      "text/plain": [
       "0       audio_features\n",
       "1       audio_features\n",
       "2       audio_features\n",
       "3       audio_features\n",
       "4       audio_features\n",
       "             ...      \n",
       "1033    audio_features\n",
       "1034    audio_features\n",
       "1035    audio_features\n",
       "1036    audio_features\n",
       "1037    audio_features\n",
       "Name: type, Length: 944, dtype: object"
      ]
     },
     "metadata": {},
     "execution_count": 84
    }
   ],
   "source": [
    "df[\"type\"]"
   ]
  },
  {
   "cell_type": "code",
   "execution_count": 85,
   "metadata": {},
   "outputs": [
    {
     "output_type": "execute_result",
     "data": {
      "text/plain": [
       "Empty DataFrame\n",
       "Columns: [name, id, duration_ms, explicit, popularity, danceability, energy, key, loudness, mode, speechiness, acousticness, instrumentalness, liveness, valence, tempo, type, uri, track_href, analysis_url, time_signature, end_of_fade_in, start_of_fade_out]\n",
       "Index: []\n",
       "\n",
       "[0 rows x 23 columns]"
      ],
      "text/html": "<div>\n<style scoped>\n    .dataframe tbody tr th:only-of-type {\n        vertical-align: middle;\n    }\n\n    .dataframe tbody tr th {\n        vertical-align: top;\n    }\n\n    .dataframe thead th {\n        text-align: right;\n    }\n</style>\n<table border=\"1\" class=\"dataframe\">\n  <thead>\n    <tr style=\"text-align: right;\">\n      <th></th>\n      <th>name</th>\n      <th>id</th>\n      <th>duration_ms</th>\n      <th>explicit</th>\n      <th>popularity</th>\n      <th>danceability</th>\n      <th>energy</th>\n      <th>key</th>\n      <th>loudness</th>\n      <th>mode</th>\n      <th>...</th>\n      <th>liveness</th>\n      <th>valence</th>\n      <th>tempo</th>\n      <th>type</th>\n      <th>uri</th>\n      <th>track_href</th>\n      <th>analysis_url</th>\n      <th>time_signature</th>\n      <th>end_of_fade_in</th>\n      <th>start_of_fade_out</th>\n    </tr>\n  </thead>\n  <tbody>\n  </tbody>\n</table>\n<p>0 rows × 23 columns</p>\n</div>"
     },
     "metadata": {},
     "execution_count": 85
    }
   ],
   "source": [
    "df[df[\"type\"] != \"audio_features\"]"
   ]
  },
  {
   "source": [
    "Type is also the same for every row"
   ],
   "cell_type": "markdown",
   "metadata": {}
  },
  {
   "cell_type": "code",
   "execution_count": 86,
   "metadata": {},
   "outputs": [],
   "source": [
    "df = df.drop([\"type\"], axis = 1)"
   ]
  },
  {
   "source": [
    "Let's see if uri, track_href, or analysis_url are interesting at all"
   ],
   "cell_type": "markdown",
   "metadata": {}
  },
  {
   "cell_type": "code",
   "execution_count": 87,
   "metadata": {},
   "outputs": [
    {
     "output_type": "execute_result",
     "data": {
      "text/plain": [
       "0       spotify:track:6ft4hAq6yde8jPZY2i5zLr\n",
       "1       spotify:track:3Be7CLdHZpyzsVijme39cW\n",
       "2       spotify:track:4Gcv5SsxnQWpmOnUI19EJk\n",
       "3       spotify:track:1MF0hyC0NLN0IcI4FpQKYl\n",
       "4       spotify:track:0PGpWcKIlayTwPdz6Qstol\n",
       "                        ...                 \n",
       "1033    spotify:track:0yixe2v2gvdFjjkYksdITQ\n",
       "1034    spotify:track:4J2mpvxYoHzjUkCjn1WEfY\n",
       "1035    spotify:track:1F4oy2dEExiaGFCgmO9VrB\n",
       "1036    spotify:track:63wlUcpD7LiFbBueVQAis7\n",
       "1037    spotify:track:1dA9GzuP546CjJT0n9tZoe\n",
       "Name: uri, Length: 944, dtype: object"
      ]
     },
     "metadata": {},
     "execution_count": 87
    }
   ],
   "source": [
    "df[\"uri\"]"
   ]
  },
  {
   "cell_type": "code",
   "execution_count": 88,
   "metadata": {},
   "outputs": [
    {
     "output_type": "execute_result",
     "data": {
      "text/plain": [
       "                       id                                   uri\n",
       "0  6ft4hAq6yde8jPZY2i5zLr  spotify:track:6ft4hAq6yde8jPZY2i5zLr\n",
       "1  3Be7CLdHZpyzsVijme39cW  spotify:track:3Be7CLdHZpyzsVijme39cW\n",
       "2  4Gcv5SsxnQWpmOnUI19EJk  spotify:track:4Gcv5SsxnQWpmOnUI19EJk"
      ],
      "text/html": "<div>\n<style scoped>\n    .dataframe tbody tr th:only-of-type {\n        vertical-align: middle;\n    }\n\n    .dataframe tbody tr th {\n        vertical-align: top;\n    }\n\n    .dataframe thead th {\n        text-align: right;\n    }\n</style>\n<table border=\"1\" class=\"dataframe\">\n  <thead>\n    <tr style=\"text-align: right;\">\n      <th></th>\n      <th>id</th>\n      <th>uri</th>\n    </tr>\n  </thead>\n  <tbody>\n    <tr>\n      <th>0</th>\n      <td>6ft4hAq6yde8jPZY2i5zLr</td>\n      <td>spotify:track:6ft4hAq6yde8jPZY2i5zLr</td>\n    </tr>\n    <tr>\n      <th>1</th>\n      <td>3Be7CLdHZpyzsVijme39cW</td>\n      <td>spotify:track:3Be7CLdHZpyzsVijme39cW</td>\n    </tr>\n    <tr>\n      <th>2</th>\n      <td>4Gcv5SsxnQWpmOnUI19EJk</td>\n      <td>spotify:track:4Gcv5SsxnQWpmOnUI19EJk</td>\n    </tr>\n  </tbody>\n</table>\n</div>"
     },
     "metadata": {},
     "execution_count": 88
    }
   ],
   "source": [
    "df[[\"id\", \"uri\"]].head(3)"
   ]
  },
  {
   "source": [
    "uri is just the track id with spotify:track: in front of it so uri won't be any help"
   ],
   "cell_type": "markdown",
   "metadata": {}
  },
  {
   "cell_type": "code",
   "execution_count": 89,
   "metadata": {},
   "outputs": [],
   "source": [
    "df = df.drop([\"uri\"], axis = 1)"
   ]
  },
  {
   "cell_type": "code",
   "execution_count": 90,
   "metadata": {},
   "outputs": [
    {
     "output_type": "execute_result",
     "data": {
      "text/plain": [
       "0    https://api.spotify.com/v1/tracks/6ft4hAq6yde8...\n",
       "1    https://api.spotify.com/v1/tracks/3Be7CLdHZpyz...\n",
       "2    https://api.spotify.com/v1/tracks/4Gcv5SsxnQWp...\n",
       "Name: track_href, dtype: object"
      ]
     },
     "metadata": {},
     "execution_count": 90
    }
   ],
   "source": [
    "df[\"track_href\"].head(3)"
   ]
  },
  {
   "source": [
    "track_href and analysis_url are a similar story"
   ],
   "cell_type": "markdown",
   "metadata": {}
  },
  {
   "cell_type": "code",
   "execution_count": 91,
   "metadata": {},
   "outputs": [],
   "source": [
    "df = df.drop([\"track_href\"], axis = 1)"
   ]
  },
  {
   "cell_type": "code",
   "execution_count": 92,
   "metadata": {},
   "outputs": [
    {
     "output_type": "stream",
     "name": "stdout",
     "text": [
      "https://api.spotify.com/v1/audio-analysis/6ft4hAq6yde8jPZY2i5zLr\nhttps://api.spotify.com/v1/audio-analysis/3Be7CLdHZpyzsVijme39cW\nhttps://api.spotify.com/v1/audio-analysis/4Gcv5SsxnQWpmOnUI19EJk\n"
     ]
    }
   ],
   "source": [
    "print(df[\"analysis_url\"].iloc[0])\n",
    "print(df[\"analysis_url\"].iloc[1])\n",
    "print(df[\"analysis_url\"].iloc[2])"
   ]
  },
  {
   "cell_type": "code",
   "execution_count": 93,
   "metadata": {},
   "outputs": [],
   "source": [
    "df = df.drop([\"analysis_url\"], axis = 1)"
   ]
  },
  {
   "cell_type": "code",
   "execution_count": 94,
   "metadata": {},
   "outputs": [
    {
     "output_type": "execute_result",
     "data": {
      "text/plain": [
       "                              name                      id  duration_ms  \\\n",
       "0  Paradise (feat. Dermot Kennedy)  6ft4hAq6yde8jPZY2i5zLr       167903   \n",
       "1    What's Love Got to Do with It  3Be7CLdHZpyzsVijme39cW       208156   \n",
       "\n",
       "   explicit  popularity  danceability  energy  key  loudness  mode  \\\n",
       "0     False          90         0.632   0.595  8.0    -7.644   0.0   \n",
       "1     False          80         0.750   0.664  8.0    -5.908   0.0   \n",
       "\n",
       "   speechiness  acousticness  instrumentalness  liveness  valence    tempo  \\\n",
       "0       0.0401        0.0689               0.0    0.2090    0.435  124.114   \n",
       "1       0.1540        0.2750               0.0    0.0632    0.617  105.023   \n",
       "\n",
       "   time_signature  end_of_fade_in  start_of_fade_out  \n",
       "0             4.0         0.00000          164.94295  \n",
       "1             4.0         0.17941          200.16762  "
      ],
      "text/html": "<div>\n<style scoped>\n    .dataframe tbody tr th:only-of-type {\n        vertical-align: middle;\n    }\n\n    .dataframe tbody tr th {\n        vertical-align: top;\n    }\n\n    .dataframe thead th {\n        text-align: right;\n    }\n</style>\n<table border=\"1\" class=\"dataframe\">\n  <thead>\n    <tr style=\"text-align: right;\">\n      <th></th>\n      <th>name</th>\n      <th>id</th>\n      <th>duration_ms</th>\n      <th>explicit</th>\n      <th>popularity</th>\n      <th>danceability</th>\n      <th>energy</th>\n      <th>key</th>\n      <th>loudness</th>\n      <th>mode</th>\n      <th>speechiness</th>\n      <th>acousticness</th>\n      <th>instrumentalness</th>\n      <th>liveness</th>\n      <th>valence</th>\n      <th>tempo</th>\n      <th>time_signature</th>\n      <th>end_of_fade_in</th>\n      <th>start_of_fade_out</th>\n    </tr>\n  </thead>\n  <tbody>\n    <tr>\n      <th>0</th>\n      <td>Paradise (feat. Dermot Kennedy)</td>\n      <td>6ft4hAq6yde8jPZY2i5zLr</td>\n      <td>167903</td>\n      <td>False</td>\n      <td>90</td>\n      <td>0.632</td>\n      <td>0.595</td>\n      <td>8.0</td>\n      <td>-7.644</td>\n      <td>0.0</td>\n      <td>0.0401</td>\n      <td>0.0689</td>\n      <td>0.0</td>\n      <td>0.2090</td>\n      <td>0.435</td>\n      <td>124.114</td>\n      <td>4.0</td>\n      <td>0.00000</td>\n      <td>164.94295</td>\n    </tr>\n    <tr>\n      <th>1</th>\n      <td>What's Love Got to Do with It</td>\n      <td>3Be7CLdHZpyzsVijme39cW</td>\n      <td>208156</td>\n      <td>False</td>\n      <td>80</td>\n      <td>0.750</td>\n      <td>0.664</td>\n      <td>8.0</td>\n      <td>-5.908</td>\n      <td>0.0</td>\n      <td>0.1540</td>\n      <td>0.2750</td>\n      <td>0.0</td>\n      <td>0.0632</td>\n      <td>0.617</td>\n      <td>105.023</td>\n      <td>4.0</td>\n      <td>0.17941</td>\n      <td>200.16762</td>\n    </tr>\n  </tbody>\n</table>\n</div>"
     },
     "metadata": {},
     "execution_count": 94
    }
   ],
   "source": [
    "df.head(2)"
   ]
  },
  {
   "cell_type": "code",
   "execution_count": 95,
   "metadata": {},
   "outputs": [
    {
     "output_type": "stream",
     "name": "stdout",
     "text": [
      "<class 'pandas.core.frame.DataFrame'>\nInt64Index: 944 entries, 0 to 1037\nData columns (total 19 columns):\n #   Column             Non-Null Count  Dtype  \n---  ------             --------------  -----  \n 0   name               944 non-null    object \n 1   id                 944 non-null    object \n 2   duration_ms        944 non-null    int64  \n 3   explicit           944 non-null    bool   \n 4   popularity         944 non-null    int64  \n 5   danceability       944 non-null    float64\n 6   energy             944 non-null    float64\n 7   key                944 non-null    float64\n 8   loudness           944 non-null    float64\n 9   mode               944 non-null    float64\n 10  speechiness        944 non-null    float64\n 11  acousticness       944 non-null    float64\n 12  instrumentalness   944 non-null    float64\n 13  liveness           944 non-null    float64\n 14  valence            944 non-null    float64\n 15  tempo              944 non-null    float64\n 16  time_signature     944 non-null    float64\n 17  end_of_fade_in     944 non-null    float64\n 18  start_of_fade_out  944 non-null    float64\ndtypes: bool(1), float64(14), int64(2), object(2)\nmemory usage: 141.0+ KB\n"
     ]
    }
   ],
   "source": [
    "df.info()"
   ]
  },
  {
   "source": [
    "The next step is to determine which variable are continuous and which are discrete / incremental. We won't worry about name and id for now"
   ],
   "cell_type": "markdown",
   "metadata": {}
  },
  {
   "cell_type": "code",
   "execution_count": 96,
   "metadata": {},
   "outputs": [
    {
     "output_type": "execute_result",
     "data": {
      "text/plain": [
       "0    167903\n",
       "1    208156\n",
       "2    238458\n",
       "Name: duration_ms, dtype: int64"
      ]
     },
     "metadata": {},
     "execution_count": 96
    }
   ],
   "source": [
    "df[\"duration_ms\"].head(3) #definitely a continuous value"
   ]
  },
  {
   "cell_type": "code",
   "execution_count": 97,
   "metadata": {},
   "outputs": [
    {
     "output_type": "execute_result",
     "data": {
      "text/plain": [
       "False    904\n",
       "True      40\n",
       "Name: explicit, dtype: int64"
      ]
     },
     "metadata": {},
     "execution_count": 97
    }
   ],
   "source": [
    "df[\"explicit\"].value_counts()"
   ]
  },
  {
   "cell_type": "code",
   "execution_count": 98,
   "metadata": {},
   "outputs": [
    {
     "output_type": "execute_result",
     "data": {
      "text/plain": [
       "65                                       It Won't Stop Me\n",
       "82                                  Roses - Imanbek Remix\n",
       "97                                            Shame On Me\n",
       "120                    Without You (feat. Sandro Cavazza)\n",
       "127                                                 Money\n",
       "235           I'm Your Friend Juicy Pen (Radio Trap Edit)\n",
       "245                             Bleu Chanel (NA-NO Remix)\n",
       "248                                             Instagram\n",
       "249                                Rave (feat. Kris Kiss)\n",
       "259                      Thing For You - Don Diablo Remix\n",
       "290                                       Change My Heart\n",
       "296              WTF (feat. Amber Van Day) - Tujamo Remix\n",
       "483                          So Cold (feat. Lily Denning)\n",
       "563                         Day 'N' Nite - Crookers Remix\n",
       "613                                      Internet Friends\n",
       "646                                  Who Is Ready to Jump\n",
       "656     Pursuit Of Happiness - Extended Steve Aoki Rem...\n",
       "698                                  Creep - mint Singles\n",
       "708                            Issues - Alan Walker Remix\n",
       "724                              HUMBLE. - SKRILLEX REMIX\n",
       "757                                      Crawl Outta Love\n",
       "763                           Without Me - ILLENIUM Remix\n",
       "785                                Feels - Jai Wolf Remix\n",
       "791                           It's Strange (feat. K.Flay)\n",
       "802                                    Often - Kygo Remix\n",
       "822                                                Say It\n",
       "825                                    idfc (Tarro Remix)\n",
       "830                                             Tennessee\n",
       "839                         Never Be Like You (feat. Kai)\n",
       "847     All My Friends (feat. Tinashe & Chance the Rap...\n",
       "849                               Say It - Illenium Remix\n",
       "949     Old Thing Back (feat. Ja Rule and Ralph Tresvant)\n",
       "960                                      Go Fuck Yourself\n",
       "968                                                  NUMB\n",
       "975                                          Just Friends\n",
       "991                                       Had Some Drinks\n",
       "998                                             Different\n",
       "999                                               Options\n",
       "1021                                Roses - Imanbek Remix\n",
       "1033                                         Lana Del Dre\n",
       "Name: name, dtype: object"
      ]
     },
     "metadata": {},
     "execution_count": 98
    }
   ],
   "source": [
    "#explore names of explicit songs\n",
    "df[df[\"explicit\"] == True][\"name\"]"
   ]
  },
  {
   "source": [
    "We should be able to keep explicit as boolean but can change it to int if needed"
   ],
   "cell_type": "markdown",
   "metadata": {}
  },
  {
   "cell_type": "code",
   "execution_count": 99,
   "metadata": {},
   "outputs": [
    {
     "output_type": "execute_result",
     "data": {
      "text/plain": [
       "       popularity  acousticness  danceability      energy  instrumentalness  \\\n",
       "count  944.000000    944.000000    944.000000  944.000000        944.000000   \n",
       "mean    43.483051      0.109521      0.622121    0.765781          0.155554   \n",
       "std     21.897276      0.169090      0.121056    0.148381          0.285037   \n",
       "min      0.000000      0.000023      0.184000    0.114000          0.000000   \n",
       "25%     32.000000      0.005755      0.544000    0.684750          0.000004   \n",
       "50%     48.000000      0.031850      0.629000    0.794000          0.001465   \n",
       "75%     59.000000      0.148000      0.706000    0.878000          0.134000   \n",
       "max     90.000000      0.967000      0.946000    0.999000          0.972000   \n",
       "\n",
       "         liveness    loudness  speechiness     valence  \n",
       "count  944.000000  944.000000   944.000000  944.000000  \n",
       "mean     0.206735   -5.643966     0.075997    0.366817  \n",
       "std      0.165790    2.284321     0.072305    0.205753  \n",
       "min      0.022200  -20.792000     0.025700    0.031600  \n",
       "25%      0.095050   -6.841250     0.039575    0.195000  \n",
       "50%      0.139000   -5.318500     0.051100    0.351000  \n",
       "75%      0.283500   -3.995500     0.079225    0.510250  \n",
       "max      0.956000   -0.570000     0.869000    0.977000  "
      ],
      "text/html": "<div>\n<style scoped>\n    .dataframe tbody tr th:only-of-type {\n        vertical-align: middle;\n    }\n\n    .dataframe tbody tr th {\n        vertical-align: top;\n    }\n\n    .dataframe thead th {\n        text-align: right;\n    }\n</style>\n<table border=\"1\" class=\"dataframe\">\n  <thead>\n    <tr style=\"text-align: right;\">\n      <th></th>\n      <th>popularity</th>\n      <th>acousticness</th>\n      <th>danceability</th>\n      <th>energy</th>\n      <th>instrumentalness</th>\n      <th>liveness</th>\n      <th>loudness</th>\n      <th>speechiness</th>\n      <th>valence</th>\n    </tr>\n  </thead>\n  <tbody>\n    <tr>\n      <th>count</th>\n      <td>944.000000</td>\n      <td>944.000000</td>\n      <td>944.000000</td>\n      <td>944.000000</td>\n      <td>944.000000</td>\n      <td>944.000000</td>\n      <td>944.000000</td>\n      <td>944.000000</td>\n      <td>944.000000</td>\n    </tr>\n    <tr>\n      <th>mean</th>\n      <td>43.483051</td>\n      <td>0.109521</td>\n      <td>0.622121</td>\n      <td>0.765781</td>\n      <td>0.155554</td>\n      <td>0.206735</td>\n      <td>-5.643966</td>\n      <td>0.075997</td>\n      <td>0.366817</td>\n    </tr>\n    <tr>\n      <th>std</th>\n      <td>21.897276</td>\n      <td>0.169090</td>\n      <td>0.121056</td>\n      <td>0.148381</td>\n      <td>0.285037</td>\n      <td>0.165790</td>\n      <td>2.284321</td>\n      <td>0.072305</td>\n      <td>0.205753</td>\n    </tr>\n    <tr>\n      <th>min</th>\n      <td>0.000000</td>\n      <td>0.000023</td>\n      <td>0.184000</td>\n      <td>0.114000</td>\n      <td>0.000000</td>\n      <td>0.022200</td>\n      <td>-20.792000</td>\n      <td>0.025700</td>\n      <td>0.031600</td>\n    </tr>\n    <tr>\n      <th>25%</th>\n      <td>32.000000</td>\n      <td>0.005755</td>\n      <td>0.544000</td>\n      <td>0.684750</td>\n      <td>0.000004</td>\n      <td>0.095050</td>\n      <td>-6.841250</td>\n      <td>0.039575</td>\n      <td>0.195000</td>\n    </tr>\n    <tr>\n      <th>50%</th>\n      <td>48.000000</td>\n      <td>0.031850</td>\n      <td>0.629000</td>\n      <td>0.794000</td>\n      <td>0.001465</td>\n      <td>0.139000</td>\n      <td>-5.318500</td>\n      <td>0.051100</td>\n      <td>0.351000</td>\n    </tr>\n    <tr>\n      <th>75%</th>\n      <td>59.000000</td>\n      <td>0.148000</td>\n      <td>0.706000</td>\n      <td>0.878000</td>\n      <td>0.134000</td>\n      <td>0.283500</td>\n      <td>-3.995500</td>\n      <td>0.079225</td>\n      <td>0.510250</td>\n    </tr>\n    <tr>\n      <th>max</th>\n      <td>90.000000</td>\n      <td>0.967000</td>\n      <td>0.946000</td>\n      <td>0.999000</td>\n      <td>0.972000</td>\n      <td>0.956000</td>\n      <td>-0.570000</td>\n      <td>0.869000</td>\n      <td>0.977000</td>\n    </tr>\n  </tbody>\n</table>\n</div>"
     },
     "metadata": {},
     "execution_count": 99
    }
   ],
   "source": [
    " df[[\"popularity\", \"acousticness\", \"danceability\", \"energy\", \"instrumentalness\", \"liveness\", \"loudness\", \"speechiness\", \"valence\"]].describe()"
   ]
  },
  {
   "source": [
    "All continuous (check Spotify API Endpoint Reference for Get Audio Features for a Track)"
   ],
   "cell_type": "markdown",
   "metadata": {}
  },
  {
   "source": [
    "Loudness is negative but the Spotify documentation says \"values typical range between -60 and 0 db\" so we don't need to worry"
   ],
   "cell_type": "markdown",
   "metadata": {}
  },
  {
   "source": [
    "Mode \"indicates the modality (major or minor) of a track, the type of scale from which its melodic content is derived. Major is represented by 1 and minor is 0\"\n",
    "\n",
    "So we don't need to convert it"
   ],
   "cell_type": "markdown",
   "metadata": {}
  },
  {
   "source": [
    "Key is \"The estimated overall key of the track. Integers map to pitches using standard Pitch Class notation . E.g. 0 = C, 1 = C♯/D♭, 2 = D, and so on. If no key was detected, the value is -1.\"\n",
    "\n",
    "So key is a discrete value and we need to convert it to one"
   ],
   "cell_type": "markdown",
   "metadata": {}
  },
  {
   "cell_type": "code",
   "execution_count": 100,
   "metadata": {},
   "outputs": [
    {
     "output_type": "execute_result",
     "data": {
      "text/plain": [
       "0.0     109\n",
       "11.0    104\n",
       "1.0      97\n",
       "7.0      91\n",
       "5.0      87\n",
       "6.0      85\n",
       "9.0      80\n",
       "8.0      77\n",
       "2.0      71\n",
       "10.0     58\n",
       "4.0      56\n",
       "3.0      29\n",
       "Name: key, dtype: int64"
      ]
     },
     "metadata": {},
     "execution_count": 100
    }
   ],
   "source": [
    "df[\"key\"].value_counts()"
   ]
  },
  {
   "cell_type": "code",
   "execution_count": 101,
   "metadata": {},
   "outputs": [],
   "source": [
    "dummies = pd.get_dummies(df[\"key\"], drop_first= True) #don't want to duplicate info\n",
    "\n",
    "df = pd.concat([df.drop(\"key\", axis = 1), dummies], axis = 1)"
   ]
  },
  {
   "cell_type": "code",
   "execution_count": 102,
   "metadata": {},
   "outputs": [
    {
     "output_type": "execute_result",
     "data": {
      "text/plain": [
       "Index([             'name',                'id',       'duration_ms',\n",
       "                'explicit',        'popularity',      'danceability',\n",
       "                  'energy',          'loudness',              'mode',\n",
       "             'speechiness',      'acousticness',  'instrumentalness',\n",
       "                'liveness',           'valence',             'tempo',\n",
       "          'time_signature',    'end_of_fade_in', 'start_of_fade_out',\n",
       "                       1.0,                 2.0,                 3.0,\n",
       "                       4.0,                 5.0,                 6.0,\n",
       "                       7.0,                 8.0,                 9.0,\n",
       "                      10.0,                11.0],\n",
       "      dtype='object')"
      ]
     },
     "metadata": {},
     "execution_count": 102
    }
   ],
   "source": [
    "df.columns"
   ]
  },
  {
   "source": [
    "Numeric values represent the possible keys. Going to rename them for readability"
   ],
   "cell_type": "markdown",
   "metadata": {}
  },
  {
   "cell_type": "code",
   "execution_count": 104,
   "metadata": {},
   "outputs": [],
   "source": [
    "df = df.rename(columns={\n",
    "    1.0: \"key_1\", \n",
    "    2.0: \"key_2\",\n",
    "    3.0: \"key_3\",\n",
    "    4.0: \"key_4\",\n",
    "    5.0: \"key_5\",\n",
    "    6.0: \"key_6\",\n",
    "    7.0: \"key_7\",\n",
    "    8.0: \"key_8\",\n",
    "    9.0: \"key_9\",\n",
    "    10.0: \"key_10\",\n",
    "    11.0: \"key_11\"\n",
    "})"
   ]
  },
  {
   "cell_type": "code",
   "execution_count": 105,
   "metadata": {},
   "outputs": [
    {
     "output_type": "execute_result",
     "data": {
      "text/plain": [
       "Index(['name', 'id', 'duration_ms', 'explicit', 'popularity', 'danceability',\n",
       "       'energy', 'loudness', 'mode', 'speechiness', 'acousticness',\n",
       "       'instrumentalness', 'liveness', 'valence', 'tempo', 'time_signature',\n",
       "       'end_of_fade_in', 'start_of_fade_out', 'key_1', 'key_2', 'key_3',\n",
       "       'key_4', 'key_5', 'key_6', 'key_7', 'key_8', 'key_9', 'key_10',\n",
       "       'key_11'],\n",
       "      dtype='object')"
      ]
     },
     "metadata": {},
     "execution_count": 105
    }
   ],
   "source": [
    "df.columns"
   ]
  },
  {
   "source": [
    "We still need to check tempo, time_signature, end_of_fade_in, and start_of_fade_out"
   ],
   "cell_type": "markdown",
   "metadata": {}
  },
  {
   "cell_type": "code",
   "execution_count": 108,
   "metadata": {},
   "outputs": [
    {
     "output_type": "execute_result",
     "data": {
      "text/plain": [
       "774"
      ]
     },
     "metadata": {},
     "execution_count": 108
    }
   ],
   "source": [
    "len(df[\"tempo\"].unique())"
   ]
  },
  {
   "source": [
    "Tempo really varies, definitely a continuous variable"
   ],
   "cell_type": "markdown",
   "metadata": {}
  },
  {
   "cell_type": "code",
   "execution_count": 109,
   "metadata": {},
   "outputs": [
    {
     "output_type": "execute_result",
     "data": {
      "text/plain": [
       "4.0    924\n",
       "3.0     12\n",
       "5.0      7\n",
       "1.0      1\n",
       "Name: time_signature, dtype: int64"
      ]
     },
     "metadata": {},
     "execution_count": 109
    }
   ],
   "source": [
    "df[\"time_signature\"].value_counts()"
   ]
  },
  {
   "source": [
    "Time signature is how many beats are contained in each measure so we'll convert it to dummy variables"
   ],
   "cell_type": "markdown",
   "metadata": {}
  },
  {
   "cell_type": "code",
   "execution_count": 110,
   "metadata": {},
   "outputs": [],
   "source": [
    "dummies = pd.get_dummies(df[\"time_signature\"], drop_first= True) \n",
    "\n",
    "df = pd.concat([df.drop(\"time_signature\", axis = 1), dummies], axis = 1)"
   ]
  },
  {
   "cell_type": "code",
   "execution_count": 111,
   "metadata": {},
   "outputs": [
    {
     "output_type": "execute_result",
     "data": {
      "text/plain": [
       "Index([             'name',                'id',       'duration_ms',\n",
       "                'explicit',        'popularity',      'danceability',\n",
       "                  'energy',          'loudness',              'mode',\n",
       "             'speechiness',      'acousticness',  'instrumentalness',\n",
       "                'liveness',           'valence',             'tempo',\n",
       "          'end_of_fade_in', 'start_of_fade_out',             'key_1',\n",
       "                   'key_2',             'key_3',             'key_4',\n",
       "                   'key_5',             'key_6',             'key_7',\n",
       "                   'key_8',             'key_9',            'key_10',\n",
       "                  'key_11',                 3.0,                 4.0,\n",
       "                       5.0],\n",
       "      dtype='object')"
      ]
     },
     "metadata": {},
     "execution_count": 111
    }
   ],
   "source": [
    "df.columns"
   ]
  },
  {
   "cell_type": "code",
   "execution_count": 112,
   "metadata": {},
   "outputs": [],
   "source": [
    "df = df.rename(columns={\n",
    "    3.0: \"time_sig3\", \n",
    "    4.0: \"time_sig4\",\n",
    "    5.0: \"time_sig5\"\n",
    "})"
   ]
  },
  {
   "cell_type": "code",
   "execution_count": 113,
   "metadata": {},
   "outputs": [
    {
     "output_type": "execute_result",
     "data": {
      "text/plain": [
       "Index(['name', 'id', 'duration_ms', 'explicit', 'popularity', 'danceability',\n",
       "       'energy', 'loudness', 'mode', 'speechiness', 'acousticness',\n",
       "       'instrumentalness', 'liveness', 'valence', 'tempo', 'end_of_fade_in',\n",
       "       'start_of_fade_out', 'key_1', 'key_2', 'key_3', 'key_4', 'key_5',\n",
       "       'key_6', 'key_7', 'key_8', 'key_9', 'key_10', 'key_11', 'time_sig3',\n",
       "       'time_sig4', 'time_sig5'],\n",
       "      dtype='object')"
      ]
     },
     "metadata": {},
     "execution_count": 113
    }
   ],
   "source": [
    "df.columns"
   ]
  },
  {
   "source": [
    "The last variables we need to look at are start_of_fade_out and end_of_fade_in."
   ],
   "cell_type": "markdown",
   "metadata": {}
  },
  {
   "cell_type": "code",
   "execution_count": 115,
   "metadata": {},
   "outputs": [
    {
     "output_type": "execute_result",
     "data": {
      "text/plain": [
       "255.00000    2\n",
       "198.58865    2\n",
       "227.98512    2\n",
       "177.38304    2\n",
       "170.63184    2\n",
       "            ..\n",
       "169.79591    1\n",
       "374.49722    1\n",
       "180.33197    1\n",
       "182.20000    1\n",
       "160.00000    1\n",
       "Name: start_of_fade_out, Length: 922, dtype: int64"
      ]
     },
     "metadata": {},
     "execution_count": 115
    }
   ],
   "source": [
    "df[\"start_of_fade_out\"].value_counts()"
   ]
  },
  {
   "cell_type": "code",
   "execution_count": 116,
   "metadata": {},
   "outputs": [
    {
     "output_type": "execute_result",
     "data": {
      "text/plain": [
       "0.00000    464\n",
       "2.40327      5\n",
       "0.22059      4\n",
       "2.47293      4\n",
       "0.20308      3\n",
       "          ... \n",
       "2.66449      1\n",
       "2.33941      1\n",
       "0.20798      1\n",
       "0.16939      1\n",
       "0.08181      1\n",
       "Name: end_of_fade_in, Length: 405, dtype: int64"
      ]
     },
     "metadata": {},
     "execution_count": 116
    }
   ],
   "source": [
    "df[\"end_of_fade_in\"].value_counts()"
   ]
  },
  {
   "source": [
    "All the fade out times are different and most fade in times are different other than the ones that don't fade in at all. We can leave these as it."
   ],
   "cell_type": "markdown",
   "metadata": {}
  },
  {
   "cell_type": "code",
   "execution_count": 117,
   "metadata": {},
   "outputs": [
    {
     "output_type": "execute_result",
     "data": {
      "text/plain": [
       "                                         name                      id  \\\n",
       "0             Paradise (feat. Dermot Kennedy)  6ft4hAq6yde8jPZY2i5zLr   \n",
       "1               What's Love Got to Do with It  3Be7CLdHZpyzsVijme39cW   \n",
       "2  All You Need To Know (feat. Calle Lehmann)  4Gcv5SsxnQWpmOnUI19EJk   \n",
       "3                                    Dreamers  1MF0hyC0NLN0IcI4FpQKYl   \n",
       "4                      Big Love (with Wrabel)  0PGpWcKIlayTwPdz6Qstol   \n",
       "\n",
       "   duration_ms  explicit  popularity  danceability  energy  loudness  mode  \\\n",
       "0       167903     False          90         0.632   0.595    -7.644   0.0   \n",
       "1       208156     False          80         0.750   0.664    -5.908   0.0   \n",
       "2       238458     False          72         0.513   0.788    -4.629   1.0   \n",
       "3       181935     False          50         0.780   0.808    -4.913   1.0   \n",
       "4       182115     False          57         0.483   0.761    -7.150   0.0   \n",
       "\n",
       "   speechiness  ...  key_5  key_6  key_7  key_8  key_9  key_10  key_11  \\\n",
       "0       0.0401  ...      0      0      0      1      0       0       0   \n",
       "1       0.1540  ...      0      0      0      1      0       0       0   \n",
       "2       0.0364  ...      0      0      0      0      0       0       0   \n",
       "3       0.0451  ...      0      0      1      0      0       0       0   \n",
       "4       0.1110  ...      0      0      0      1      0       0       0   \n",
       "\n",
       "   time_sig3  time_sig4  time_sig5  \n",
       "0          0          1          0  \n",
       "1          0          1          0  \n",
       "2          0          1          0  \n",
       "3          0          1          0  \n",
       "4          0          1          0  \n",
       "\n",
       "[5 rows x 31 columns]"
      ],
      "text/html": "<div>\n<style scoped>\n    .dataframe tbody tr th:only-of-type {\n        vertical-align: middle;\n    }\n\n    .dataframe tbody tr th {\n        vertical-align: top;\n    }\n\n    .dataframe thead th {\n        text-align: right;\n    }\n</style>\n<table border=\"1\" class=\"dataframe\">\n  <thead>\n    <tr style=\"text-align: right;\">\n      <th></th>\n      <th>name</th>\n      <th>id</th>\n      <th>duration_ms</th>\n      <th>explicit</th>\n      <th>popularity</th>\n      <th>danceability</th>\n      <th>energy</th>\n      <th>loudness</th>\n      <th>mode</th>\n      <th>speechiness</th>\n      <th>...</th>\n      <th>key_5</th>\n      <th>key_6</th>\n      <th>key_7</th>\n      <th>key_8</th>\n      <th>key_9</th>\n      <th>key_10</th>\n      <th>key_11</th>\n      <th>time_sig3</th>\n      <th>time_sig4</th>\n      <th>time_sig5</th>\n    </tr>\n  </thead>\n  <tbody>\n    <tr>\n      <th>0</th>\n      <td>Paradise (feat. Dermot Kennedy)</td>\n      <td>6ft4hAq6yde8jPZY2i5zLr</td>\n      <td>167903</td>\n      <td>False</td>\n      <td>90</td>\n      <td>0.632</td>\n      <td>0.595</td>\n      <td>-7.644</td>\n      <td>0.0</td>\n      <td>0.0401</td>\n      <td>...</td>\n      <td>0</td>\n      <td>0</td>\n      <td>0</td>\n      <td>1</td>\n      <td>0</td>\n      <td>0</td>\n      <td>0</td>\n      <td>0</td>\n      <td>1</td>\n      <td>0</td>\n    </tr>\n    <tr>\n      <th>1</th>\n      <td>What's Love Got to Do with It</td>\n      <td>3Be7CLdHZpyzsVijme39cW</td>\n      <td>208156</td>\n      <td>False</td>\n      <td>80</td>\n      <td>0.750</td>\n      <td>0.664</td>\n      <td>-5.908</td>\n      <td>0.0</td>\n      <td>0.1540</td>\n      <td>...</td>\n      <td>0</td>\n      <td>0</td>\n      <td>0</td>\n      <td>1</td>\n      <td>0</td>\n      <td>0</td>\n      <td>0</td>\n      <td>0</td>\n      <td>1</td>\n      <td>0</td>\n    </tr>\n    <tr>\n      <th>2</th>\n      <td>All You Need To Know (feat. Calle Lehmann)</td>\n      <td>4Gcv5SsxnQWpmOnUI19EJk</td>\n      <td>238458</td>\n      <td>False</td>\n      <td>72</td>\n      <td>0.513</td>\n      <td>0.788</td>\n      <td>-4.629</td>\n      <td>1.0</td>\n      <td>0.0364</td>\n      <td>...</td>\n      <td>0</td>\n      <td>0</td>\n      <td>0</td>\n      <td>0</td>\n      <td>0</td>\n      <td>0</td>\n      <td>0</td>\n      <td>0</td>\n      <td>1</td>\n      <td>0</td>\n    </tr>\n    <tr>\n      <th>3</th>\n      <td>Dreamers</td>\n      <td>1MF0hyC0NLN0IcI4FpQKYl</td>\n      <td>181935</td>\n      <td>False</td>\n      <td>50</td>\n      <td>0.780</td>\n      <td>0.808</td>\n      <td>-4.913</td>\n      <td>1.0</td>\n      <td>0.0451</td>\n      <td>...</td>\n      <td>0</td>\n      <td>0</td>\n      <td>1</td>\n      <td>0</td>\n      <td>0</td>\n      <td>0</td>\n      <td>0</td>\n      <td>0</td>\n      <td>1</td>\n      <td>0</td>\n    </tr>\n    <tr>\n      <th>4</th>\n      <td>Big Love (with Wrabel)</td>\n      <td>0PGpWcKIlayTwPdz6Qstol</td>\n      <td>182115</td>\n      <td>False</td>\n      <td>57</td>\n      <td>0.483</td>\n      <td>0.761</td>\n      <td>-7.150</td>\n      <td>0.0</td>\n      <td>0.1110</td>\n      <td>...</td>\n      <td>0</td>\n      <td>0</td>\n      <td>0</td>\n      <td>1</td>\n      <td>0</td>\n      <td>0</td>\n      <td>0</td>\n      <td>0</td>\n      <td>1</td>\n      <td>0</td>\n    </tr>\n  </tbody>\n</table>\n<p>5 rows × 31 columns</p>\n</div>"
     },
     "metadata": {},
     "execution_count": 117
    }
   ],
   "source": [
    "df.head()"
   ]
  },
  {
   "source": [
    "## Part 2: Visualization"
   ],
   "cell_type": "markdown",
   "metadata": {}
  },
  {
   "cell_type": "code",
   "execution_count": null,
   "metadata": {},
   "outputs": [],
   "source": []
  }
 ]
}